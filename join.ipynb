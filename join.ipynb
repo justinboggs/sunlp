{
 "cells": [
  {
   "cell_type": "code",
   "execution_count": 1,
   "metadata": {},
   "outputs": [
    {
     "data": {
      "application/javascript": [
       "\n",
       "        if (window._pyforest_update_imports_cell) { window._pyforest_update_imports_cell('import pandas as pd'); }\n",
       "    "
      ],
      "text/plain": [
       "<IPython.core.display.Javascript object>"
      ]
     },
     "metadata": {},
     "output_type": "display_data"
    },
    {
     "data": {
      "text/html": [
       "<div>\n",
       "<style scoped>\n",
       "    .dataframe tbody tr th:only-of-type {\n",
       "        vertical-align: middle;\n",
       "    }\n",
       "\n",
       "    .dataframe tbody tr th {\n",
       "        vertical-align: top;\n",
       "    }\n",
       "\n",
       "    .dataframe thead th {\n",
       "        text-align: right;\n",
       "    }\n",
       "</style>\n",
       "<table border=\"1\" class=\"dataframe\">\n",
       "  <thead>\n",
       "    <tr style=\"text-align: right;\">\n",
       "      <th></th>\n",
       "      <th>Site_ID</th>\n",
       "      <th>Grade_Description</th>\n",
       "      <th>Date</th>\n",
       "      <th>Price</th>\n",
       "    </tr>\n",
       "  </thead>\n",
       "  <tbody>\n",
       "    <tr>\n",
       "      <th>0</th>\n",
       "      <td>10808</td>\n",
       "      <td>Unleaded Gas</td>\n",
       "      <td>2019-01-01</td>\n",
       "      <td>1.769</td>\n",
       "    </tr>\n",
       "    <tr>\n",
       "      <th>1</th>\n",
       "      <td>10808</td>\n",
       "      <td>Unleaded Gas</td>\n",
       "      <td>2019-01-02</td>\n",
       "      <td>1.759</td>\n",
       "    </tr>\n",
       "    <tr>\n",
       "      <th>2</th>\n",
       "      <td>10808</td>\n",
       "      <td>Unleaded Gas</td>\n",
       "      <td>2019-01-03</td>\n",
       "      <td>1.749</td>\n",
       "    </tr>\n",
       "    <tr>\n",
       "      <th>3</th>\n",
       "      <td>10808</td>\n",
       "      <td>Unleaded Gas</td>\n",
       "      <td>2019-01-04</td>\n",
       "      <td>1.749</td>\n",
       "    </tr>\n",
       "    <tr>\n",
       "      <th>4</th>\n",
       "      <td>10808</td>\n",
       "      <td>Unleaded Gas</td>\n",
       "      <td>2019-01-05</td>\n",
       "      <td>1.749</td>\n",
       "    </tr>\n",
       "  </tbody>\n",
       "</table>\n",
       "</div>"
      ],
      "text/plain": [
       "   Site_ID Grade_Description        Date  Price\n",
       "0    10808      Unleaded Gas  2019-01-01  1.769\n",
       "1    10808      Unleaded Gas  2019-01-02  1.759\n",
       "2    10808      Unleaded Gas  2019-01-03  1.749\n",
       "3    10808      Unleaded Gas  2019-01-04  1.749\n",
       "4    10808      Unleaded Gas  2019-01-05  1.749"
      ]
     },
     "execution_count": 1,
     "metadata": {},
     "output_type": "execute_result"
    }
   ],
   "source": [
    "spricesADJ = pd.read2_csv('data/site_prices_ADJ.csv')\n",
    "spricesADJ.head()"
   ]
  },
  {
   "cell_type": "code",
   "execution_count": 15,
   "metadata": {},
   "outputs": [
    {
     "name": "stdout",
     "output_type": "stream",
     "text": [
      "<class 'pandas.core.frame.DataFrame'>\n",
      "RangeIndex: 6579 entries, 0 to 6578\n",
      "Data columns (total 4 columns):\n",
      " #   Column             Non-Null Count  Dtype  \n",
      "---  ------             --------------  -----  \n",
      " 0   Site_ID            6579 non-null   int64  \n",
      " 1   Grade_Description  6579 non-null   object \n",
      " 2   Date               6579 non-null   object \n",
      " 3   Price              6579 non-null   float64\n",
      "dtypes: float64(1), int64(1), object(2)\n",
      "memory usage: 205.7+ KB\n"
     ]
    }
   ],
   "source": [
    "spricesADJ.info()"
   ]
  },
  {
   "cell_type": "code",
   "execution_count": 2,
   "metadata": {},
   "outputs": [
    {
     "data": {
      "application/javascript": [
       "\n",
       "        if (window._pyforest_update_imports_cell) { window._pyforest_update_imports_cell('import pandas as pd'); }\n",
       "    "
      ],
      "text/plain": [
       "<IPython.core.display.Javascript object>"
      ]
     },
     "metadata": {},
     "output_type": "display_data"
    },
    {
     "data": {
      "text/html": [
       "<div>\n",
       "<style scoped>\n",
       "    .dataframe tbody tr th:only-of-type {\n",
       "        vertical-align: middle;\n",
       "    }\n",
       "\n",
       "    .dataframe tbody tr th {\n",
       "        vertical-align: top;\n",
       "    }\n",
       "\n",
       "    .dataframe thead th {\n",
       "        text-align: right;\n",
       "    }\n",
       "</style>\n",
       "<table border=\"1\" class=\"dataframe\">\n",
       "  <thead>\n",
       "    <tr style=\"text-align: right;\">\n",
       "      <th></th>\n",
       "      <th>Site_ID</th>\n",
       "      <th>Grade_Description</th>\n",
       "      <th>Date</th>\n",
       "      <th>Profit</th>\n",
       "    </tr>\n",
       "  </thead>\n",
       "  <tbody>\n",
       "    <tr>\n",
       "      <th>0</th>\n",
       "      <td>10808</td>\n",
       "      <td>Unleaded Gas</td>\n",
       "      <td>2019-01-01</td>\n",
       "      <td>9.73</td>\n",
       "    </tr>\n",
       "    <tr>\n",
       "      <th>1</th>\n",
       "      <td>10808</td>\n",
       "      <td>Unleaded Gas</td>\n",
       "      <td>2019-01-02</td>\n",
       "      <td>11.13</td>\n",
       "    </tr>\n",
       "    <tr>\n",
       "      <th>2</th>\n",
       "      <td>10808</td>\n",
       "      <td>Unleaded Gas</td>\n",
       "      <td>2019-01-03</td>\n",
       "      <td>-35.83</td>\n",
       "    </tr>\n",
       "    <tr>\n",
       "      <th>3</th>\n",
       "      <td>10808</td>\n",
       "      <td>Unleaded Gas</td>\n",
       "      <td>2019-01-04</td>\n",
       "      <td>-65.66</td>\n",
       "    </tr>\n",
       "    <tr>\n",
       "      <th>4</th>\n",
       "      <td>10808</td>\n",
       "      <td>Unleaded Gas</td>\n",
       "      <td>2019-01-05</td>\n",
       "      <td>-98.64</td>\n",
       "    </tr>\n",
       "  </tbody>\n",
       "</table>\n",
       "</div>"
      ],
      "text/plain": [
       "   Site_ID Grade_Description        Date  Profit\n",
       "0    10808      Unleaded Gas  2019-01-01    9.73\n",
       "1    10808      Unleaded Gas  2019-01-02   11.13\n",
       "2    10808      Unleaded Gas  2019-01-03  -35.83\n",
       "3    10808      Unleaded Gas  2019-01-04  -65.66\n",
       "4    10808      Unleaded Gas  2019-01-05  -98.64"
      ]
     },
     "execution_count": 2,
     "metadata": {},
     "output_type": "execute_result"
    }
   ],
   "source": [
    "sprofitADJ = pd.read_csv('data/site_profit_ADJ.csv')\n",
    "sprofitADJ.head()"
   ]
  },
  {
   "cell_type": "code",
   "execution_count": 16,
   "metadata": {},
   "outputs": [
    {
     "name": "stdout",
     "output_type": "stream",
     "text": [
      "<class 'pandas.core.frame.DataFrame'>\n",
      "RangeIndex: 5914 entries, 0 to 5913\n",
      "Data columns (total 4 columns):\n",
      " #   Column             Non-Null Count  Dtype  \n",
      "---  ------             --------------  -----  \n",
      " 0   Site_ID            5914 non-null   int64  \n",
      " 1   Grade_Description  5914 non-null   object \n",
      " 2   Date               5914 non-null   object \n",
      " 3   Profit             5914 non-null   float64\n",
      "dtypes: float64(1), int64(1), object(2)\n",
      "memory usage: 184.9+ KB\n"
     ]
    }
   ],
   "source": [
    "sprofitADJ.info()"
   ]
  },
  {
   "cell_type": "code",
   "execution_count": 3,
   "metadata": {},
   "outputs": [
    {
     "data": {
      "application/javascript": [
       "\n",
       "        if (window._pyforest_update_imports_cell) { window._pyforest_update_imports_cell('import pandas as pd'); }\n",
       "    "
      ],
      "text/plain": [
       "<IPython.core.display.Javascript object>"
      ]
     },
     "metadata": {},
     "output_type": "display_data"
    },
    {
     "data": {
      "text/html": [
       "<div>\n",
       "<style scoped>\n",
       "    .dataframe tbody tr th:only-of-type {\n",
       "        vertical-align: middle;\n",
       "    }\n",
       "\n",
       "    .dataframe tbody tr th {\n",
       "        vertical-align: top;\n",
       "    }\n",
       "\n",
       "    .dataframe thead th {\n",
       "        text-align: right;\n",
       "    }\n",
       "</style>\n",
       "<table border=\"1\" class=\"dataframe\">\n",
       "  <thead>\n",
       "    <tr style=\"text-align: right;\">\n",
       "      <th></th>\n",
       "      <th>Site_ID</th>\n",
       "      <th>Grade_Description</th>\n",
       "      <th>Date</th>\n",
       "      <th>Volume</th>\n",
       "    </tr>\n",
       "  </thead>\n",
       "  <tbody>\n",
       "    <tr>\n",
       "      <th>0</th>\n",
       "      <td>10808</td>\n",
       "      <td>Unleaded Gas</td>\n",
       "      <td>2019-01-01</td>\n",
       "      <td>1092.01</td>\n",
       "    </tr>\n",
       "    <tr>\n",
       "      <th>1</th>\n",
       "      <td>10808</td>\n",
       "      <td>Unleaded Gas</td>\n",
       "      <td>2019-01-02</td>\n",
       "      <td>1955.47</td>\n",
       "    </tr>\n",
       "    <tr>\n",
       "      <th>2</th>\n",
       "      <td>10808</td>\n",
       "      <td>Unleaded Gas</td>\n",
       "      <td>2019-01-03</td>\n",
       "      <td>1123.79</td>\n",
       "    </tr>\n",
       "    <tr>\n",
       "      <th>3</th>\n",
       "      <td>10808</td>\n",
       "      <td>Unleaded Gas</td>\n",
       "      <td>2019-01-04</td>\n",
       "      <td>1847.51</td>\n",
       "    </tr>\n",
       "    <tr>\n",
       "      <th>4</th>\n",
       "      <td>10808</td>\n",
       "      <td>Unleaded Gas</td>\n",
       "      <td>2019-01-05</td>\n",
       "      <td>1442.89</td>\n",
       "    </tr>\n",
       "  </tbody>\n",
       "</table>\n",
       "</div>"
      ],
      "text/plain": [
       "   Site_ID Grade_Description        Date   Volume\n",
       "0    10808      Unleaded Gas  2019-01-01  1092.01\n",
       "1    10808      Unleaded Gas  2019-01-02  1955.47\n",
       "2    10808      Unleaded Gas  2019-01-03  1123.79\n",
       "3    10808      Unleaded Gas  2019-01-04  1847.51\n",
       "4    10808      Unleaded Gas  2019-01-05  1442.89"
      ]
     },
     "execution_count": 3,
     "metadata": {},
     "output_type": "execute_result"
    }
   ],
   "source": [
    "svolADJ = pd.read_csv('data/site_volume_ADJ.csv')\n",
    "svolADJ.head()"
   ]
  },
  {
   "cell_type": "code",
   "execution_count": 22,
   "metadata": {},
   "outputs": [
    {
     "data": {
      "text/html": [
       "<div>\n",
       "<style scoped>\n",
       "    .dataframe tbody tr th:only-of-type {\n",
       "        vertical-align: middle;\n",
       "    }\n",
       "\n",
       "    .dataframe tbody tr th {\n",
       "        vertical-align: top;\n",
       "    }\n",
       "\n",
       "    .dataframe thead th {\n",
       "        text-align: right;\n",
       "    }\n",
       "</style>\n",
       "<table border=\"1\" class=\"dataframe\">\n",
       "  <thead>\n",
       "    <tr style=\"text-align: right;\">\n",
       "      <th></th>\n",
       "      <th>Site_ID</th>\n",
       "      <th>Grade_Description</th>\n",
       "      <th>Date</th>\n",
       "      <th>Volume</th>\n",
       "    </tr>\n",
       "  </thead>\n",
       "  <tbody>\n",
       "    <tr>\n",
       "      <th>5925</th>\n",
       "      <td>10838</td>\n",
       "      <td>Premium Gas</td>\n",
       "      <td>2020-12-27</td>\n",
       "      <td>170.186</td>\n",
       "    </tr>\n",
       "    <tr>\n",
       "      <th>5926</th>\n",
       "      <td>10838</td>\n",
       "      <td>Premium Gas</td>\n",
       "      <td>2020-12-28</td>\n",
       "      <td>125.756</td>\n",
       "    </tr>\n",
       "    <tr>\n",
       "      <th>5927</th>\n",
       "      <td>10838</td>\n",
       "      <td>Premium Gas</td>\n",
       "      <td>2020-12-29</td>\n",
       "      <td>156.217</td>\n",
       "    </tr>\n",
       "    <tr>\n",
       "      <th>5928</th>\n",
       "      <td>10838</td>\n",
       "      <td>Premium Gas</td>\n",
       "      <td>2020-12-30</td>\n",
       "      <td>79.029</td>\n",
       "    </tr>\n",
       "    <tr>\n",
       "      <th>5929</th>\n",
       "      <td>10838</td>\n",
       "      <td>Premium Gas</td>\n",
       "      <td>2020-12-31</td>\n",
       "      <td>138.086</td>\n",
       "    </tr>\n",
       "  </tbody>\n",
       "</table>\n",
       "</div>"
      ],
      "text/plain": [
       "      Site_ID Grade_Description        Date   Volume\n",
       "5925    10838       Premium Gas  2020-12-27  170.186\n",
       "5926    10838       Premium Gas  2020-12-28  125.756\n",
       "5927    10838       Premium Gas  2020-12-29  156.217\n",
       "5928    10838       Premium Gas  2020-12-30   79.029\n",
       "5929    10838       Premium Gas  2020-12-31  138.086"
      ]
     },
     "execution_count": 22,
     "metadata": {},
     "output_type": "execute_result"
    }
   ],
   "source": [
    "svolADJ.tail()"
   ]
  },
  {
   "cell_type": "code",
   "execution_count": 18,
   "metadata": {},
   "outputs": [
    {
     "name": "stdout",
     "output_type": "stream",
     "text": [
      "<class 'pandas.core.frame.DataFrame'>\n",
      "RangeIndex: 5930 entries, 0 to 5929\n",
      "Data columns (total 4 columns):\n",
      " #   Column             Non-Null Count  Dtype  \n",
      "---  ------             --------------  -----  \n",
      " 0   Site_ID            5930 non-null   int64  \n",
      " 1   Grade_Description  5930 non-null   object \n",
      " 2   Date               5930 non-null   object \n",
      " 3   Volume             5930 non-null   float64\n",
      "dtypes: float64(1), int64(1), object(2)\n",
      "memory usage: 185.4+ KB\n"
     ]
    }
   ],
   "source": [
    "svolADJ.info()"
   ]
  },
  {
   "cell_type": "code",
   "execution_count": 4,
   "metadata": {},
   "outputs": [
    {
     "data": {
      "application/javascript": [
       "\n",
       "        if (window._pyforest_update_imports_cell) { window._pyforest_update_imports_cell('import pandas as pd'); }\n",
       "    "
      ],
      "text/plain": [
       "<IPython.core.display.Javascript object>"
      ]
     },
     "metadata": {},
     "output_type": "display_data"
    },
    {
     "data": {
      "text/html": [
       "<div>\n",
       "<style scoped>\n",
       "    .dataframe tbody tr th:only-of-type {\n",
       "        vertical-align: middle;\n",
       "    }\n",
       "\n",
       "    .dataframe tbody tr th {\n",
       "        vertical-align: top;\n",
       "    }\n",
       "\n",
       "    .dataframe thead th {\n",
       "        text-align: right;\n",
       "    }\n",
       "</style>\n",
       "<table border=\"1\" class=\"dataframe\">\n",
       "  <thead>\n",
       "    <tr style=\"text-align: right;\">\n",
       "      <th></th>\n",
       "      <th>Date</th>\n",
       "      <th>Unleaded Gas Cost</th>\n",
       "      <th>Diesel Cost</th>\n",
       "      <th>Midgrade Gas Cost</th>\n",
       "      <th>Premium Gas Cost</th>\n",
       "    </tr>\n",
       "  </thead>\n",
       "  <tbody>\n",
       "    <tr>\n",
       "      <th>0</th>\n",
       "      <td>2019-01-01</td>\n",
       "      <td>1.3237</td>\n",
       "      <td>1.176109</td>\n",
       "      <td>1.409889</td>\n",
       "      <td>1.534257</td>\n",
       "    </tr>\n",
       "    <tr>\n",
       "      <th>1</th>\n",
       "      <td>2019-01-02</td>\n",
       "      <td>1.3256</td>\n",
       "      <td>1.201517</td>\n",
       "      <td>1.434353</td>\n",
       "      <td>1.535803</td>\n",
       "    </tr>\n",
       "    <tr>\n",
       "      <th>2</th>\n",
       "      <td>2019-01-03</td>\n",
       "      <td>1.3495</td>\n",
       "      <td>1.225239</td>\n",
       "      <td>1.454955</td>\n",
       "      <td>1.553484</td>\n",
       "    </tr>\n",
       "    <tr>\n",
       "      <th>3</th>\n",
       "      <td>2019-01-04</td>\n",
       "      <td>1.3478</td>\n",
       "      <td>1.170962</td>\n",
       "      <td>1.453069</td>\n",
       "      <td>1.552687</td>\n",
       "    </tr>\n",
       "    <tr>\n",
       "      <th>4</th>\n",
       "      <td>2019-01-05</td>\n",
       "      <td>1.3478</td>\n",
       "      <td>1.212443</td>\n",
       "      <td>1.462783</td>\n",
       "      <td>1.551202</td>\n",
       "    </tr>\n",
       "  </tbody>\n",
       "</table>\n",
       "</div>"
      ],
      "text/plain": [
       "         Date  Unleaded Gas Cost  Diesel Cost  Midgrade Gas Cost  \\\n",
       "0  2019-01-01             1.3237     1.176109           1.409889   \n",
       "1  2019-01-02             1.3256     1.201517           1.434353   \n",
       "2  2019-01-03             1.3495     1.225239           1.454955   \n",
       "3  2019-01-04             1.3478     1.170962           1.453069   \n",
       "4  2019-01-05             1.3478     1.212443           1.462783   \n",
       "\n",
       "   Premium Gas Cost  \n",
       "0          1.534257  \n",
       "1          1.535803  \n",
       "2          1.553484  \n",
       "3          1.552687  \n",
       "4          1.551202  "
      ]
     },
     "execution_count": 4,
     "metadata": {},
     "output_type": "execute_result"
    }
   ],
   "source": [
    "sreplaceADJ = pd.read_csv('data/site_replacement_cost_ADJ.csv')\n",
    "sreplaceADJ.head()"
   ]
  },
  {
   "cell_type": "code",
   "execution_count": 5,
   "metadata": {},
   "outputs": [
    {
     "data": {
      "application/javascript": [
       "\n",
       "        if (window._pyforest_update_imports_cell) { window._pyforest_update_imports_cell('import pandas as pd'); }\n",
       "    "
      ],
      "text/plain": [
       "<IPython.core.display.Javascript object>"
      ]
     },
     "metadata": {},
     "output_type": "display_data"
    },
    {
     "data": {
      "text/html": [
       "<div>\n",
       "<style scoped>\n",
       "    .dataframe tbody tr th:only-of-type {\n",
       "        vertical-align: middle;\n",
       "    }\n",
       "\n",
       "    .dataframe tbody tr th {\n",
       "        vertical-align: top;\n",
       "    }\n",
       "\n",
       "    .dataframe thead th {\n",
       "        text-align: right;\n",
       "    }\n",
       "</style>\n",
       "<table border=\"1\" class=\"dataframe\">\n",
       "  <thead>\n",
       "    <tr style=\"text-align: right;\">\n",
       "      <th></th>\n",
       "      <th>Site_ID</th>\n",
       "      <th>Competitor_ID</th>\n",
       "      <th>Grade_Description</th>\n",
       "      <th>Date</th>\n",
       "      <th>Competitor_Price</th>\n",
       "    </tr>\n",
       "  </thead>\n",
       "  <tbody>\n",
       "    <tr>\n",
       "      <th>0</th>\n",
       "      <td>10808</td>\n",
       "      <td>311365</td>\n",
       "      <td>Diesel</td>\n",
       "      <td>2019-08-27</td>\n",
       "      <td>2.429</td>\n",
       "    </tr>\n",
       "    <tr>\n",
       "      <th>1</th>\n",
       "      <td>10808</td>\n",
       "      <td>311365</td>\n",
       "      <td>Diesel</td>\n",
       "      <td>2019-08-28</td>\n",
       "      <td>2.429</td>\n",
       "    </tr>\n",
       "    <tr>\n",
       "      <th>2</th>\n",
       "      <td>10808</td>\n",
       "      <td>311365</td>\n",
       "      <td>Diesel</td>\n",
       "      <td>2019-08-29</td>\n",
       "      <td>2.429</td>\n",
       "    </tr>\n",
       "    <tr>\n",
       "      <th>3</th>\n",
       "      <td>10808</td>\n",
       "      <td>311365</td>\n",
       "      <td>Diesel</td>\n",
       "      <td>2019-08-30</td>\n",
       "      <td>2.429</td>\n",
       "    </tr>\n",
       "    <tr>\n",
       "      <th>4</th>\n",
       "      <td>10808</td>\n",
       "      <td>311365</td>\n",
       "      <td>Diesel</td>\n",
       "      <td>2019-08-31</td>\n",
       "      <td>2.429</td>\n",
       "    </tr>\n",
       "  </tbody>\n",
       "</table>\n",
       "</div>"
      ],
      "text/plain": [
       "   Site_ID  Competitor_ID Grade_Description        Date  Competitor_Price\n",
       "0    10808         311365            Diesel  2019-08-27             2.429\n",
       "1    10808         311365            Diesel  2019-08-28             2.429\n",
       "2    10808         311365            Diesel  2019-08-29             2.429\n",
       "3    10808         311365            Diesel  2019-08-30             2.429\n",
       "4    10808         311365            Diesel  2019-08-31             2.429"
      ]
     },
     "execution_count": 5,
     "metadata": {},
     "output_type": "execute_result"
    }
   ],
   "source": [
    "cpricesADJ = pd.read_csv('data/competitor_prices_ADJ.csv')\n",
    "cpricesADJ.head()"
   ]
  },
  {
   "cell_type": "code",
   "execution_count": 6,
   "metadata": {},
   "outputs": [
    {
     "name": "stdout",
     "output_type": "stream",
     "text": [
      "<class 'pandas.core.frame.DataFrame'>\n",
      "RangeIndex: 6579 entries, 0 to 6578\n",
      "Data columns (total 4 columns):\n",
      " #   Column             Non-Null Count  Dtype  \n",
      "---  ------             --------------  -----  \n",
      " 0   Site_ID            6579 non-null   int64  \n",
      " 1   Grade_Description  6579 non-null   object \n",
      " 2   Date               6579 non-null   object \n",
      " 3   Price              6579 non-null   float64\n",
      "dtypes: float64(1), int64(1), object(2)\n",
      "memory usage: 205.7+ KB\n"
     ]
    }
   ],
   "source": [
    "spricesADJ.info()"
   ]
  },
  {
   "cell_type": "code",
   "execution_count": 7,
   "metadata": {},
   "outputs": [
    {
     "name": "stdout",
     "output_type": "stream",
     "text": [
      "<class 'pandas.core.frame.DataFrame'>\n",
      "RangeIndex: 5914 entries, 0 to 5913\n",
      "Data columns (total 4 columns):\n",
      " #   Column             Non-Null Count  Dtype  \n",
      "---  ------             --------------  -----  \n",
      " 0   Site_ID            5914 non-null   int64  \n",
      " 1   Grade_Description  5914 non-null   object \n",
      " 2   Date               5914 non-null   object \n",
      " 3   Profit             5914 non-null   float64\n",
      "dtypes: float64(1), int64(1), object(2)\n",
      "memory usage: 184.9+ KB\n"
     ]
    }
   ],
   "source": [
    "sprofitADJ.info()"
   ]
  },
  {
   "cell_type": "code",
   "execution_count": 8,
   "metadata": {},
   "outputs": [
    {
     "name": "stdout",
     "output_type": "stream",
     "text": [
      "<class 'pandas.core.frame.DataFrame'>\n",
      "RangeIndex: 5930 entries, 0 to 5929\n",
      "Data columns (total 4 columns):\n",
      " #   Column             Non-Null Count  Dtype  \n",
      "---  ------             --------------  -----  \n",
      " 0   Site_ID            5930 non-null   int64  \n",
      " 1   Grade_Description  5930 non-null   object \n",
      " 2   Date               5930 non-null   object \n",
      " 3   Volume             5930 non-null   float64\n",
      "dtypes: float64(1), int64(1), object(2)\n",
      "memory usage: 185.4+ KB\n"
     ]
    }
   ],
   "source": [
    "svolADJ.info()"
   ]
  },
  {
   "cell_type": "code",
   "execution_count": 9,
   "metadata": {},
   "outputs": [
    {
     "name": "stdout",
     "output_type": "stream",
     "text": [
      "<class 'pandas.core.frame.DataFrame'>\n",
      "RangeIndex: 731 entries, 0 to 730\n",
      "Data columns (total 5 columns):\n",
      " #   Column             Non-Null Count  Dtype  \n",
      "---  ------             --------------  -----  \n",
      " 0   Date               731 non-null    object \n",
      " 1   Unleaded Gas Cost  731 non-null    float64\n",
      " 2   Diesel Cost        731 non-null    float64\n",
      " 3   Midgrade Gas Cost  731 non-null    float64\n",
      " 4   Premium Gas Cost   731 non-null    float64\n",
      "dtypes: float64(4), object(1)\n",
      "memory usage: 28.7+ KB\n"
     ]
    }
   ],
   "source": [
    "sreplaceADJ.info()"
   ]
  },
  {
   "cell_type": "code",
   "execution_count": 10,
   "metadata": {},
   "outputs": [
    {
     "name": "stdout",
     "output_type": "stream",
     "text": [
      "<class 'pandas.core.frame.DataFrame'>\n",
      "RangeIndex: 29573 entries, 0 to 29572\n",
      "Data columns (total 5 columns):\n",
      " #   Column             Non-Null Count  Dtype  \n",
      "---  ------             --------------  -----  \n",
      " 0   Site_ID            29573 non-null  int64  \n",
      " 1   Competitor_ID      29573 non-null  int64  \n",
      " 2   Grade_Description  29573 non-null  object \n",
      " 3   Date               29573 non-null  object \n",
      " 4   Competitor_Price   29573 non-null  float64\n",
      "dtypes: float64(1), int64(2), object(2)\n",
      "memory usage: 1.1+ MB\n"
     ]
    }
   ],
   "source": [
    "cpricesADJ.info()"
   ]
  },
  {
   "cell_type": "code",
   "execution_count": 14,
   "metadata": {},
   "outputs": [
    {
     "data": {
      "application/javascript": [
       "\n",
       "        if (window._pyforest_update_imports_cell) { window._pyforest_update_imports_cell('import pandas as pd'); }\n",
       "    "
      ],
      "text/plain": [
       "<IPython.core.display.Javascript object>"
      ]
     },
     "metadata": {},
     "output_type": "display_data"
    },
    {
     "data": {
      "text/html": [
       "<div>\n",
       "<style scoped>\n",
       "    .dataframe tbody tr th:only-of-type {\n",
       "        vertical-align: middle;\n",
       "    }\n",
       "\n",
       "    .dataframe tbody tr th {\n",
       "        vertical-align: top;\n",
       "    }\n",
       "\n",
       "    .dataframe thead th {\n",
       "        text-align: right;\n",
       "    }\n",
       "</style>\n",
       "<table border=\"1\" class=\"dataframe\">\n",
       "  <thead>\n",
       "    <tr style=\"text-align: right;\">\n",
       "      <th></th>\n",
       "      <th>Site_ID</th>\n",
       "      <th>Grade_Description</th>\n",
       "      <th>Date</th>\n",
       "      <th>Price</th>\n",
       "      <th>Profit</th>\n",
       "    </tr>\n",
       "  </thead>\n",
       "  <tbody>\n",
       "    <tr>\n",
       "      <th>0</th>\n",
       "      <td>10808</td>\n",
       "      <td>Unleaded Gas</td>\n",
       "      <td>2019-01-01</td>\n",
       "      <td>1.769</td>\n",
       "      <td>9.73</td>\n",
       "    </tr>\n",
       "    <tr>\n",
       "      <th>1</th>\n",
       "      <td>10808</td>\n",
       "      <td>Unleaded Gas</td>\n",
       "      <td>2019-01-02</td>\n",
       "      <td>1.759</td>\n",
       "      <td>11.13</td>\n",
       "    </tr>\n",
       "    <tr>\n",
       "      <th>2</th>\n",
       "      <td>10808</td>\n",
       "      <td>Unleaded Gas</td>\n",
       "      <td>2019-01-03</td>\n",
       "      <td>1.749</td>\n",
       "      <td>-35.83</td>\n",
       "    </tr>\n",
       "    <tr>\n",
       "      <th>3</th>\n",
       "      <td>10808</td>\n",
       "      <td>Unleaded Gas</td>\n",
       "      <td>2019-01-04</td>\n",
       "      <td>1.749</td>\n",
       "      <td>-65.66</td>\n",
       "    </tr>\n",
       "    <tr>\n",
       "      <th>4</th>\n",
       "      <td>10808</td>\n",
       "      <td>Unleaded Gas</td>\n",
       "      <td>2019-01-05</td>\n",
       "      <td>1.749</td>\n",
       "      <td>-98.64</td>\n",
       "    </tr>\n",
       "  </tbody>\n",
       "</table>\n",
       "</div>"
      ],
      "text/plain": [
       "   Site_ID Grade_Description        Date  Price  Profit\n",
       "0    10808      Unleaded Gas  2019-01-01  1.769    9.73\n",
       "1    10808      Unleaded Gas  2019-01-02  1.759   11.13\n",
       "2    10808      Unleaded Gas  2019-01-03  1.749  -35.83\n",
       "3    10808      Unleaded Gas  2019-01-04  1.749  -65.66\n",
       "4    10808      Unleaded Gas  2019-01-05  1.749  -98.64"
      ]
     },
     "execution_count": 14,
     "metadata": {},
     "output_type": "execute_result"
    }
   ],
   "source": [
    "df1 = pd.merge(spricesADJ, sprofitADJ)\n",
    "df1.head()"
   ]
  },
  {
   "cell_type": "code",
   "execution_count": 17,
   "metadata": {},
   "outputs": [
    {
     "name": "stdout",
     "output_type": "stream",
     "text": [
      "<class 'pandas.core.frame.DataFrame'>\n",
      "Int64Index: 5914 entries, 0 to 5913\n",
      "Data columns (total 5 columns):\n",
      " #   Column             Non-Null Count  Dtype  \n",
      "---  ------             --------------  -----  \n",
      " 0   Site_ID            5914 non-null   int64  \n",
      " 1   Grade_Description  5914 non-null   object \n",
      " 2   Date               5914 non-null   object \n",
      " 3   Price              5914 non-null   float64\n",
      " 4   Profit             5914 non-null   float64\n",
      "dtypes: float64(2), int64(1), object(2)\n",
      "memory usage: 277.2+ KB\n"
     ]
    }
   ],
   "source": [
    "df1.info()"
   ]
  },
  {
   "cell_type": "code",
   "execution_count": 19,
   "metadata": {},
   "outputs": [
    {
     "data": {
      "application/javascript": [
       "\n",
       "        if (window._pyforest_update_imports_cell) { window._pyforest_update_imports_cell('import pandas as pd'); }\n",
       "    "
      ],
      "text/plain": [
       "<IPython.core.display.Javascript object>"
      ]
     },
     "metadata": {},
     "output_type": "display_data"
    },
    {
     "data": {
      "text/html": [
       "<div>\n",
       "<style scoped>\n",
       "    .dataframe tbody tr th:only-of-type {\n",
       "        vertical-align: middle;\n",
       "    }\n",
       "\n",
       "    .dataframe tbody tr th {\n",
       "        vertical-align: top;\n",
       "    }\n",
       "\n",
       "    .dataframe thead th {\n",
       "        text-align: right;\n",
       "    }\n",
       "</style>\n",
       "<table border=\"1\" class=\"dataframe\">\n",
       "  <thead>\n",
       "    <tr style=\"text-align: right;\">\n",
       "      <th></th>\n",
       "      <th>Site_ID</th>\n",
       "      <th>Grade_Description</th>\n",
       "      <th>Date</th>\n",
       "      <th>Price</th>\n",
       "      <th>Profit</th>\n",
       "      <th>Volume</th>\n",
       "    </tr>\n",
       "  </thead>\n",
       "  <tbody>\n",
       "    <tr>\n",
       "      <th>0</th>\n",
       "      <td>10808</td>\n",
       "      <td>Unleaded Gas</td>\n",
       "      <td>2019-01-01</td>\n",
       "      <td>1.769</td>\n",
       "      <td>9.73</td>\n",
       "      <td>1092.01</td>\n",
       "    </tr>\n",
       "    <tr>\n",
       "      <th>1</th>\n",
       "      <td>10808</td>\n",
       "      <td>Unleaded Gas</td>\n",
       "      <td>2019-01-02</td>\n",
       "      <td>1.759</td>\n",
       "      <td>11.13</td>\n",
       "      <td>1955.47</td>\n",
       "    </tr>\n",
       "    <tr>\n",
       "      <th>2</th>\n",
       "      <td>10808</td>\n",
       "      <td>Unleaded Gas</td>\n",
       "      <td>2019-01-03</td>\n",
       "      <td>1.749</td>\n",
       "      <td>-35.83</td>\n",
       "      <td>1123.79</td>\n",
       "    </tr>\n",
       "    <tr>\n",
       "      <th>3</th>\n",
       "      <td>10808</td>\n",
       "      <td>Unleaded Gas</td>\n",
       "      <td>2019-01-04</td>\n",
       "      <td>1.749</td>\n",
       "      <td>-65.66</td>\n",
       "      <td>1847.51</td>\n",
       "    </tr>\n",
       "    <tr>\n",
       "      <th>4</th>\n",
       "      <td>10808</td>\n",
       "      <td>Unleaded Gas</td>\n",
       "      <td>2019-01-05</td>\n",
       "      <td>1.749</td>\n",
       "      <td>-98.64</td>\n",
       "      <td>1442.89</td>\n",
       "    </tr>\n",
       "  </tbody>\n",
       "</table>\n",
       "</div>"
      ],
      "text/plain": [
       "   Site_ID Grade_Description        Date  Price  Profit   Volume\n",
       "0    10808      Unleaded Gas  2019-01-01  1.769    9.73  1092.01\n",
       "1    10808      Unleaded Gas  2019-01-02  1.759   11.13  1955.47\n",
       "2    10808      Unleaded Gas  2019-01-03  1.749  -35.83  1123.79\n",
       "3    10808      Unleaded Gas  2019-01-04  1.749  -65.66  1847.51\n",
       "4    10808      Unleaded Gas  2019-01-05  1.749  -98.64  1442.89"
      ]
     },
     "execution_count": 19,
     "metadata": {},
     "output_type": "execute_result"
    }
   ],
   "source": [
    "df2 = pd.merge(df1, svolADJ)\n",
    "df2.head()"
   ]
  },
  {
   "cell_type": "code",
   "execution_count": 20,
   "metadata": {},
   "outputs": [
    {
     "name": "stdout",
     "output_type": "stream",
     "text": [
      "<class 'pandas.core.frame.DataFrame'>\n",
      "Int64Index: 5841 entries, 0 to 5840\n",
      "Data columns (total 6 columns):\n",
      " #   Column             Non-Null Count  Dtype  \n",
      "---  ------             --------------  -----  \n",
      " 0   Site_ID            5841 non-null   int64  \n",
      " 1   Grade_Description  5841 non-null   object \n",
      " 2   Date               5841 non-null   object \n",
      " 3   Price              5841 non-null   float64\n",
      " 4   Profit             5841 non-null   float64\n",
      " 5   Volume             5841 non-null   float64\n",
      "dtypes: float64(3), int64(1), object(2)\n",
      "memory usage: 319.4+ KB\n"
     ]
    }
   ],
   "source": [
    "df2.info()"
   ]
  },
  {
   "cell_type": "code",
   "execution_count": 32,
   "metadata": {},
   "outputs": [
    {
     "data": {
      "text/html": [
       "<div>\n",
       "<style scoped>\n",
       "    .dataframe tbody tr th:only-of-type {\n",
       "        vertical-align: middle;\n",
       "    }\n",
       "\n",
       "    .dataframe tbody tr th {\n",
       "        vertical-align: top;\n",
       "    }\n",
       "\n",
       "    .dataframe thead th {\n",
       "        text-align: right;\n",
       "    }\n",
       "</style>\n",
       "<table border=\"1\" class=\"dataframe\">\n",
       "  <thead>\n",
       "    <tr style=\"text-align: right;\">\n",
       "      <th></th>\n",
       "      <th>Site_ID</th>\n",
       "      <th>Grade_Description</th>\n",
       "      <th>Date</th>\n",
       "      <th>Price</th>\n",
       "      <th>Profit</th>\n",
       "      <th>Volume</th>\n",
       "    </tr>\n",
       "  </thead>\n",
       "  <tbody>\n",
       "    <tr>\n",
       "      <th>5836</th>\n",
       "      <td>10838</td>\n",
       "      <td>Premium Gas</td>\n",
       "      <td>2020-12-27</td>\n",
       "      <td>2.809</td>\n",
       "      <td>130.43</td>\n",
       "      <td>170.186</td>\n",
       "    </tr>\n",
       "    <tr>\n",
       "      <th>5837</th>\n",
       "      <td>10838</td>\n",
       "      <td>Premium Gas</td>\n",
       "      <td>2020-12-28</td>\n",
       "      <td>2.749</td>\n",
       "      <td>95.90</td>\n",
       "      <td>125.756</td>\n",
       "    </tr>\n",
       "    <tr>\n",
       "      <th>5838</th>\n",
       "      <td>10838</td>\n",
       "      <td>Premium Gas</td>\n",
       "      <td>2020-12-29</td>\n",
       "      <td>2.709</td>\n",
       "      <td>119.04</td>\n",
       "      <td>156.217</td>\n",
       "    </tr>\n",
       "    <tr>\n",
       "      <th>5839</th>\n",
       "      <td>10838</td>\n",
       "      <td>Premium Gas</td>\n",
       "      <td>2020-12-30</td>\n",
       "      <td>2.709</td>\n",
       "      <td>60.59</td>\n",
       "      <td>79.029</td>\n",
       "    </tr>\n",
       "    <tr>\n",
       "      <th>5840</th>\n",
       "      <td>10838</td>\n",
       "      <td>Premium Gas</td>\n",
       "      <td>2020-12-31</td>\n",
       "      <td>2.709</td>\n",
       "      <td>105.08</td>\n",
       "      <td>138.086</td>\n",
       "    </tr>\n",
       "  </tbody>\n",
       "</table>\n",
       "</div>"
      ],
      "text/plain": [
       "      Site_ID Grade_Description        Date  Price  Profit   Volume\n",
       "5836    10838       Premium Gas  2020-12-27  2.809  130.43  170.186\n",
       "5837    10838       Premium Gas  2020-12-28  2.749   95.90  125.756\n",
       "5838    10838       Premium Gas  2020-12-29  2.709  119.04  156.217\n",
       "5839    10838       Premium Gas  2020-12-30  2.709   60.59   79.029\n",
       "5840    10838       Premium Gas  2020-12-31  2.709  105.08  138.086"
      ]
     },
     "execution_count": 32,
     "metadata": {},
     "output_type": "execute_result"
    }
   ],
   "source": [
    "df2.tail()"
   ]
  },
  {
   "cell_type": "code",
   "execution_count": 33,
   "metadata": {},
   "outputs": [
    {
     "data": {
      "application/javascript": [
       "\n",
       "        if (window._pyforest_update_imports_cell) { window._pyforest_update_imports_cell('import pandas as pd'); }\n",
       "    "
      ],
      "text/plain": [
       "<IPython.core.display.Javascript object>"
      ]
     },
     "metadata": {},
     "output_type": "display_data"
    },
    {
     "data": {
      "text/html": [
       "<div>\n",
       "<style scoped>\n",
       "    .dataframe tbody tr th:only-of-type {\n",
       "        vertical-align: middle;\n",
       "    }\n",
       "\n",
       "    .dataframe tbody tr th {\n",
       "        vertical-align: top;\n",
       "    }\n",
       "\n",
       "    .dataframe thead th {\n",
       "        text-align: right;\n",
       "    }\n",
       "</style>\n",
       "<table border=\"1\" class=\"dataframe\">\n",
       "  <thead>\n",
       "    <tr style=\"text-align: right;\">\n",
       "      <th></th>\n",
       "      <th>Site_ID</th>\n",
       "      <th>Grade_Description</th>\n",
       "      <th>Date</th>\n",
       "      <th>Price</th>\n",
       "      <th>Profit</th>\n",
       "      <th>Volume</th>\n",
       "      <th>Competitor_ID</th>\n",
       "      <th>Competitor_Price</th>\n",
       "    </tr>\n",
       "  </thead>\n",
       "  <tbody>\n",
       "    <tr>\n",
       "      <th>0</th>\n",
       "      <td>10808</td>\n",
       "      <td>Unleaded Gas</td>\n",
       "      <td>2019-01-01</td>\n",
       "      <td>1.769</td>\n",
       "      <td>9.73</td>\n",
       "      <td>1092.01</td>\n",
       "      <td>187358</td>\n",
       "      <td>1.799</td>\n",
       "    </tr>\n",
       "    <tr>\n",
       "      <th>1</th>\n",
       "      <td>10808</td>\n",
       "      <td>Unleaded Gas</td>\n",
       "      <td>2019-01-01</td>\n",
       "      <td>1.769</td>\n",
       "      <td>9.73</td>\n",
       "      <td>1092.01</td>\n",
       "      <td>569680</td>\n",
       "      <td>1.779</td>\n",
       "    </tr>\n",
       "    <tr>\n",
       "      <th>2</th>\n",
       "      <td>10808</td>\n",
       "      <td>Unleaded Gas</td>\n",
       "      <td>2019-01-01</td>\n",
       "      <td>1.769</td>\n",
       "      <td>9.73</td>\n",
       "      <td>1092.01</td>\n",
       "      <td>604895</td>\n",
       "      <td>1.899</td>\n",
       "    </tr>\n",
       "    <tr>\n",
       "      <th>3</th>\n",
       "      <td>10808</td>\n",
       "      <td>Unleaded Gas</td>\n",
       "      <td>2019-01-02</td>\n",
       "      <td>1.759</td>\n",
       "      <td>11.13</td>\n",
       "      <td>1955.47</td>\n",
       "      <td>187358</td>\n",
       "      <td>1.799</td>\n",
       "    </tr>\n",
       "    <tr>\n",
       "      <th>4</th>\n",
       "      <td>10808</td>\n",
       "      <td>Unleaded Gas</td>\n",
       "      <td>2019-01-02</td>\n",
       "      <td>1.759</td>\n",
       "      <td>11.13</td>\n",
       "      <td>1955.47</td>\n",
       "      <td>569680</td>\n",
       "      <td>1.759</td>\n",
       "    </tr>\n",
       "  </tbody>\n",
       "</table>\n",
       "</div>"
      ],
      "text/plain": [
       "   Site_ID Grade_Description        Date  Price  Profit   Volume  \\\n",
       "0    10808      Unleaded Gas  2019-01-01  1.769    9.73  1092.01   \n",
       "1    10808      Unleaded Gas  2019-01-01  1.769    9.73  1092.01   \n",
       "2    10808      Unleaded Gas  2019-01-01  1.769    9.73  1092.01   \n",
       "3    10808      Unleaded Gas  2019-01-02  1.759   11.13  1955.47   \n",
       "4    10808      Unleaded Gas  2019-01-02  1.759   11.13  1955.47   \n",
       "\n",
       "   Competitor_ID  Competitor_Price  \n",
       "0         187358             1.799  \n",
       "1         569680             1.779  \n",
       "2         604895             1.899  \n",
       "3         187358             1.799  \n",
       "4         569680             1.759  "
      ]
     },
     "execution_count": 33,
     "metadata": {},
     "output_type": "execute_result"
    }
   ],
   "source": [
    "df3 = pd.merge(df2, cpricesADJ)\n",
    "df3.head()"
   ]
  },
  {
   "cell_type": "code",
   "execution_count": 34,
   "metadata": {},
   "outputs": [
    {
     "name": "stdout",
     "output_type": "stream",
     "text": [
      "<class 'pandas.core.frame.DataFrame'>\n",
      "Int64Index: 20888 entries, 0 to 20887\n",
      "Data columns (total 8 columns):\n",
      " #   Column             Non-Null Count  Dtype  \n",
      "---  ------             --------------  -----  \n",
      " 0   Site_ID            20888 non-null  int64  \n",
      " 1   Grade_Description  20888 non-null  object \n",
      " 2   Date               20888 non-null  object \n",
      " 3   Price              20888 non-null  float64\n",
      " 4   Profit             20888 non-null  float64\n",
      " 5   Volume             20888 non-null  float64\n",
      " 6   Competitor_ID      20888 non-null  int64  \n",
      " 7   Competitor_Price   20888 non-null  float64\n",
      "dtypes: float64(4), int64(2), object(2)\n",
      "memory usage: 1.4+ MB\n"
     ]
    }
   ],
   "source": [
    "df3.info()"
   ]
  },
  {
   "cell_type": "code",
   "execution_count": 35,
   "metadata": {},
   "outputs": [
    {
     "data": {
      "text/html": [
       "<div>\n",
       "<style scoped>\n",
       "    .dataframe tbody tr th:only-of-type {\n",
       "        vertical-align: middle;\n",
       "    }\n",
       "\n",
       "    .dataframe tbody tr th {\n",
       "        vertical-align: top;\n",
       "    }\n",
       "\n",
       "    .dataframe thead th {\n",
       "        text-align: right;\n",
       "    }\n",
       "</style>\n",
       "<table border=\"1\" class=\"dataframe\">\n",
       "  <thead>\n",
       "    <tr style=\"text-align: right;\">\n",
       "      <th></th>\n",
       "      <th>Site_ID</th>\n",
       "      <th>Grade_Description</th>\n",
       "      <th>Date</th>\n",
       "      <th>Price</th>\n",
       "      <th>Profit</th>\n",
       "      <th>Volume</th>\n",
       "      <th>Competitor_ID</th>\n",
       "      <th>Competitor_Price</th>\n",
       "    </tr>\n",
       "  </thead>\n",
       "  <tbody>\n",
       "    <tr>\n",
       "      <th>20883</th>\n",
       "      <td>10838</td>\n",
       "      <td>Premium Gas</td>\n",
       "      <td>2020-12-30</td>\n",
       "      <td>2.709</td>\n",
       "      <td>60.59</td>\n",
       "      <td>79.029</td>\n",
       "      <td>291036</td>\n",
       "      <td>2.659</td>\n",
       "    </tr>\n",
       "    <tr>\n",
       "      <th>20884</th>\n",
       "      <td>10838</td>\n",
       "      <td>Premium Gas</td>\n",
       "      <td>2020-12-31</td>\n",
       "      <td>2.709</td>\n",
       "      <td>105.08</td>\n",
       "      <td>138.086</td>\n",
       "      <td>471586</td>\n",
       "      <td>2.349</td>\n",
       "    </tr>\n",
       "    <tr>\n",
       "      <th>20885</th>\n",
       "      <td>10838</td>\n",
       "      <td>Premium Gas</td>\n",
       "      <td>2020-12-31</td>\n",
       "      <td>2.709</td>\n",
       "      <td>105.08</td>\n",
       "      <td>138.086</td>\n",
       "      <td>560514</td>\n",
       "      <td>2.449</td>\n",
       "    </tr>\n",
       "    <tr>\n",
       "      <th>20886</th>\n",
       "      <td>10838</td>\n",
       "      <td>Premium Gas</td>\n",
       "      <td>2020-12-31</td>\n",
       "      <td>2.709</td>\n",
       "      <td>105.08</td>\n",
       "      <td>138.086</td>\n",
       "      <td>680794</td>\n",
       "      <td>2.199</td>\n",
       "    </tr>\n",
       "    <tr>\n",
       "      <th>20887</th>\n",
       "      <td>10838</td>\n",
       "      <td>Premium Gas</td>\n",
       "      <td>2020-12-31</td>\n",
       "      <td>2.709</td>\n",
       "      <td>105.08</td>\n",
       "      <td>138.086</td>\n",
       "      <td>291036</td>\n",
       "      <td>2.659</td>\n",
       "    </tr>\n",
       "  </tbody>\n",
       "</table>\n",
       "</div>"
      ],
      "text/plain": [
       "       Site_ID Grade_Description        Date  Price  Profit   Volume  \\\n",
       "20883    10838       Premium Gas  2020-12-30  2.709   60.59   79.029   \n",
       "20884    10838       Premium Gas  2020-12-31  2.709  105.08  138.086   \n",
       "20885    10838       Premium Gas  2020-12-31  2.709  105.08  138.086   \n",
       "20886    10838       Premium Gas  2020-12-31  2.709  105.08  138.086   \n",
       "20887    10838       Premium Gas  2020-12-31  2.709  105.08  138.086   \n",
       "\n",
       "       Competitor_ID  Competitor_Price  \n",
       "20883         291036             2.659  \n",
       "20884         471586             2.349  \n",
       "20885         560514             2.449  \n",
       "20886         680794             2.199  \n",
       "20887         291036             2.659  "
      ]
     },
     "execution_count": 35,
     "metadata": {},
     "output_type": "execute_result"
    }
   ],
   "source": [
    "df3.tail()"
   ]
  },
  {
   "cell_type": "code",
   "execution_count": null,
   "metadata": {},
   "outputs": [],
   "source": []
  },
  {
   "cell_type": "code",
   "execution_count": 36,
   "metadata": {},
   "outputs": [
    {
     "data": {
      "application/javascript": [
       "\n",
       "        if (window._pyforest_update_imports_cell) { window._pyforest_update_imports_cell('import pandas as pd'); }\n",
       "    "
      ],
      "text/plain": [
       "<IPython.core.display.Javascript object>"
      ]
     },
     "metadata": {},
     "output_type": "display_data"
    },
    {
     "data": {
      "text/html": [
       "<div>\n",
       "<style scoped>\n",
       "    .dataframe tbody tr th:only-of-type {\n",
       "        vertical-align: middle;\n",
       "    }\n",
       "\n",
       "    .dataframe tbody tr th {\n",
       "        vertical-align: top;\n",
       "    }\n",
       "\n",
       "    .dataframe thead th {\n",
       "        text-align: right;\n",
       "    }\n",
       "</style>\n",
       "<table border=\"1\" class=\"dataframe\">\n",
       "  <thead>\n",
       "    <tr style=\"text-align: right;\">\n",
       "      <th></th>\n",
       "      <th>Site_ID</th>\n",
       "      <th>Grade_Description</th>\n",
       "      <th>Date</th>\n",
       "      <th>Price</th>\n",
       "      <th>Profit</th>\n",
       "      <th>Volume</th>\n",
       "      <th>Competitor_ID</th>\n",
       "      <th>Competitor_Price</th>\n",
       "      <th>Unleaded Gas Cost</th>\n",
       "      <th>Diesel Cost</th>\n",
       "      <th>Midgrade Gas Cost</th>\n",
       "      <th>Premium Gas Cost</th>\n",
       "    </tr>\n",
       "  </thead>\n",
       "  <tbody>\n",
       "    <tr>\n",
       "      <th>0</th>\n",
       "      <td>10808</td>\n",
       "      <td>Unleaded Gas</td>\n",
       "      <td>2019-01-01</td>\n",
       "      <td>1.769</td>\n",
       "      <td>9.73</td>\n",
       "      <td>1092.01</td>\n",
       "      <td>187358</td>\n",
       "      <td>1.799</td>\n",
       "      <td>1.3237</td>\n",
       "      <td>1.176109</td>\n",
       "      <td>1.409889</td>\n",
       "      <td>1.534257</td>\n",
       "    </tr>\n",
       "    <tr>\n",
       "      <th>1</th>\n",
       "      <td>10808</td>\n",
       "      <td>Unleaded Gas</td>\n",
       "      <td>2019-01-01</td>\n",
       "      <td>1.769</td>\n",
       "      <td>9.73</td>\n",
       "      <td>1092.01</td>\n",
       "      <td>569680</td>\n",
       "      <td>1.779</td>\n",
       "      <td>1.3237</td>\n",
       "      <td>1.176109</td>\n",
       "      <td>1.409889</td>\n",
       "      <td>1.534257</td>\n",
       "    </tr>\n",
       "    <tr>\n",
       "      <th>2</th>\n",
       "      <td>10808</td>\n",
       "      <td>Unleaded Gas</td>\n",
       "      <td>2019-01-01</td>\n",
       "      <td>1.769</td>\n",
       "      <td>9.73</td>\n",
       "      <td>1092.01</td>\n",
       "      <td>604895</td>\n",
       "      <td>1.899</td>\n",
       "      <td>1.3237</td>\n",
       "      <td>1.176109</td>\n",
       "      <td>1.409889</td>\n",
       "      <td>1.534257</td>\n",
       "    </tr>\n",
       "    <tr>\n",
       "      <th>3</th>\n",
       "      <td>10808</td>\n",
       "      <td>Premium Gas</td>\n",
       "      <td>2019-01-01</td>\n",
       "      <td>2.319</td>\n",
       "      <td>7.60</td>\n",
       "      <td>49.30</td>\n",
       "      <td>187358</td>\n",
       "      <td>1.799</td>\n",
       "      <td>1.3237</td>\n",
       "      <td>1.176109</td>\n",
       "      <td>1.409889</td>\n",
       "      <td>1.534257</td>\n",
       "    </tr>\n",
       "    <tr>\n",
       "      <th>4</th>\n",
       "      <td>10838</td>\n",
       "      <td>Unleaded Gas</td>\n",
       "      <td>2019-01-01</td>\n",
       "      <td>1.739</td>\n",
       "      <td>-18.27</td>\n",
       "      <td>255.60</td>\n",
       "      <td>471586</td>\n",
       "      <td>1.739</td>\n",
       "      <td>1.3237</td>\n",
       "      <td>1.176109</td>\n",
       "      <td>1.409889</td>\n",
       "      <td>1.534257</td>\n",
       "    </tr>\n",
       "  </tbody>\n",
       "</table>\n",
       "</div>"
      ],
      "text/plain": [
       "   Site_ID Grade_Description        Date  Price  Profit   Volume  \\\n",
       "0    10808      Unleaded Gas  2019-01-01  1.769    9.73  1092.01   \n",
       "1    10808      Unleaded Gas  2019-01-01  1.769    9.73  1092.01   \n",
       "2    10808      Unleaded Gas  2019-01-01  1.769    9.73  1092.01   \n",
       "3    10808       Premium Gas  2019-01-01  2.319    7.60    49.30   \n",
       "4    10838      Unleaded Gas  2019-01-01  1.739  -18.27   255.60   \n",
       "\n",
       "   Competitor_ID  Competitor_Price  Unleaded Gas Cost  Diesel Cost  \\\n",
       "0         187358             1.799             1.3237     1.176109   \n",
       "1         569680             1.779             1.3237     1.176109   \n",
       "2         604895             1.899             1.3237     1.176109   \n",
       "3         187358             1.799             1.3237     1.176109   \n",
       "4         471586             1.739             1.3237     1.176109   \n",
       "\n",
       "   Midgrade Gas Cost  Premium Gas Cost  \n",
       "0           1.409889          1.534257  \n",
       "1           1.409889          1.534257  \n",
       "2           1.409889          1.534257  \n",
       "3           1.409889          1.534257  \n",
       "4           1.409889          1.534257  "
      ]
     },
     "execution_count": 36,
     "metadata": {},
     "output_type": "execute_result"
    }
   ],
   "source": [
    "site_kpis = pd.merge(df3, sreplaceADJ)\n",
    "site_kpis.head()"
   ]
  },
  {
   "cell_type": "code",
   "execution_count": 37,
   "metadata": {},
   "outputs": [
    {
     "name": "stdout",
     "output_type": "stream",
     "text": [
      "<class 'pandas.core.frame.DataFrame'>\n",
      "Int64Index: 20888 entries, 0 to 20887\n",
      "Data columns (total 12 columns):\n",
      " #   Column             Non-Null Count  Dtype  \n",
      "---  ------             --------------  -----  \n",
      " 0   Site_ID            20888 non-null  int64  \n",
      " 1   Grade_Description  20888 non-null  object \n",
      " 2   Date               20888 non-null  object \n",
      " 3   Price              20888 non-null  float64\n",
      " 4   Profit             20888 non-null  float64\n",
      " 5   Volume             20888 non-null  float64\n",
      " 6   Competitor_ID      20888 non-null  int64  \n",
      " 7   Competitor_Price   20888 non-null  float64\n",
      " 8   Unleaded Gas Cost  20888 non-null  float64\n",
      " 9   Diesel Cost        20888 non-null  float64\n",
      " 10  Midgrade Gas Cost  20888 non-null  float64\n",
      " 11  Premium Gas Cost   20888 non-null  float64\n",
      "dtypes: float64(8), int64(2), object(2)\n",
      "memory usage: 2.1+ MB\n"
     ]
    }
   ],
   "source": [
    "site_kpis.info()"
   ]
  },
  {
   "cell_type": "code",
   "execution_count": 38,
   "metadata": {},
   "outputs": [],
   "source": [
    "site_kpis.to_csv('data/site_kpis.csv')"
   ]
  },
  {
   "cell_type": "code",
   "execution_count": null,
   "metadata": {},
   "outputs": [],
   "source": []
  }
 ],
 "metadata": {
  "kernelspec": {
   "display_name": "Python 3",
   "language": "python",
   "name": "python3"
  },
  "language_info": {
   "codemirror_mode": {
    "name": "ipython",
    "version": 3
   },
   "file_extension": ".py",
   "mimetype": "text/x-python",
   "name": "python",
   "nbconvert_exporter": "python",
   "pygments_lexer": "ipython3",
   "version": "3.7.6"
  }
 },
 "nbformat": 4,
 "nbformat_minor": 4
}
