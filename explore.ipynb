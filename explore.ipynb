{
 "cells": [
  {
   "cell_type": "code",
   "execution_count": 1,
   "metadata": {},
   "outputs": [],
   "source": [
    "import pandas as pd"
   ]
  },
  {
   "cell_type": "code",
   "execution_count": 18,
   "metadata": {},
   "outputs": [
    {
     "name": "stdout",
     "output_type": "stream",
     "text": [
      "<class 'pandas.core.frame.DataFrame'>\n",
      "RangeIndex: 37062 entries, 0 to 37061\n",
      "Data columns (total 5 columns):\n",
      " #   Column             Non-Null Count  Dtype         \n",
      "---  ------             --------------  -----         \n",
      " 0   Site_ID            37062 non-null  int64         \n",
      " 1   Competitor_ID      37062 non-null  int64         \n",
      " 2   Grade_Description  37062 non-null  object        \n",
      " 3   Date               37062 non-null  datetime64[ns]\n",
      " 4   Competitor_Price   29573 non-null  float64       \n",
      "dtypes: datetime64[ns](1), float64(1), int64(2), object(1)\n",
      "memory usage: 1.4+ MB\n"
     ]
    }
   ],
   "source": [
    "cprices = pd.read_excel('data/competitor_prices.xlsx')\n",
    "cprices.info()"
   ]
  },
  {
   "cell_type": "code",
   "execution_count": 19,
   "metadata": {},
   "outputs": [
    {
     "name": "stdout",
     "output_type": "stream",
     "text": [
      "<class 'pandas.core.frame.DataFrame'>\n",
      "RangeIndex: 6579 entries, 0 to 6578\n",
      "Data columns (total 4 columns):\n",
      " #   Column             Non-Null Count  Dtype         \n",
      "---  ------             --------------  -----         \n",
      " 0   Site_ID            6579 non-null   int64         \n",
      " 1   Grade_Description  6579 non-null   object        \n",
      " 2   Date               6579 non-null   datetime64[ns]\n",
      " 3   Price              6579 non-null   float64       \n",
      "dtypes: datetime64[ns](1), float64(1), int64(1), object(1)\n",
      "memory usage: 205.7+ KB\n"
     ]
    }
   ],
   "source": [
    "sprices = pd.read_excel('data/site_prices.xlsx')\n",
    "sprices.info()"
   ]
  },
  {
   "cell_type": "code",
   "execution_count": 20,
   "metadata": {},
   "outputs": [
    {
     "name": "stdout",
     "output_type": "stream",
     "text": [
      "<class 'pandas.core.frame.DataFrame'>\n",
      "RangeIndex: 6579 entries, 0 to 6578\n",
      "Data columns (total 4 columns):\n",
      " #   Column             Non-Null Count  Dtype         \n",
      "---  ------             --------------  -----         \n",
      " 0   Site_ID            6579 non-null   int64         \n",
      " 1   Grade_Description  6579 non-null   object        \n",
      " 2   Date               6579 non-null   datetime64[ns]\n",
      " 3   Profit             5914 non-null   float64       \n",
      "dtypes: datetime64[ns](1), float64(1), int64(1), object(1)\n",
      "memory usage: 205.7+ KB\n"
     ]
    }
   ],
   "source": [
    "sprofit = pd.read_excel('data/site_profit.xlsx')\n",
    "sprofit.info()"
   ]
  },
  {
   "cell_type": "code",
   "execution_count": 21,
   "metadata": {},
   "outputs": [
    {
     "name": "stdout",
     "output_type": "stream",
     "text": [
      "<class 'pandas.core.frame.DataFrame'>\n",
      "RangeIndex: 853 entries, 0 to 852\n",
      "Data columns (total 5 columns):\n",
      " #   Column             Non-Null Count  Dtype         \n",
      "---  ------             --------------  -----         \n",
      " 0   Date               853 non-null    datetime64[ns]\n",
      " 1   Unleaded Gas Cost  853 non-null    float64       \n",
      " 2   Diesel Cost        853 non-null    float64       \n",
      " 3   Midgrade Gas Cost  853 non-null    float64       \n",
      " 4   Premium Gas Cost   853 non-null    float64       \n",
      "dtypes: datetime64[ns](1), float64(4)\n",
      "memory usage: 33.4 KB\n"
     ]
    }
   ],
   "source": [
    "sreplace = pd.read_excel('data/site_replacement_cost.xlsx')\n",
    "sreplace.info()"
   ]
  },
  {
   "cell_type": "code",
   "execution_count": 22,
   "metadata": {},
   "outputs": [
    {
     "name": "stdout",
     "output_type": "stream",
     "text": [
      "<class 'pandas.core.frame.DataFrame'>\n",
      "RangeIndex: 6579 entries, 0 to 6578\n",
      "Data columns (total 4 columns):\n",
      " #   Column             Non-Null Count  Dtype         \n",
      "---  ------             --------------  -----         \n",
      " 0   Site_ID            6579 non-null   int64         \n",
      " 1   Grade_Description  6579 non-null   object        \n",
      " 2   Date               6579 non-null   datetime64[ns]\n",
      " 3   Volume             5930 non-null   float64       \n",
      "dtypes: datetime64[ns](1), float64(1), int64(1), object(1)\n",
      "memory usage: 205.7+ KB\n"
     ]
    }
   ],
   "source": [
    "svol = pd.read_excel('data/site_volume.xlsx')\n",
    "svol.info()"
   ]
  },
  {
   "cell_type": "code",
   "execution_count": null,
   "metadata": {},
   "outputs": [],
   "source": []
  }
 ],
 "metadata": {
  "kernelspec": {
   "display_name": "Python 3",
   "language": "python",
   "name": "python3"
  },
  "language_info": {
   "codemirror_mode": {
    "name": "ipython",
    "version": 3
   },
   "file_extension": ".py",
   "mimetype": "text/x-python",
   "name": "python",
   "nbconvert_exporter": "python",
   "pygments_lexer": "ipython3",
   "version": "3.7.6"
  }
 },
 "nbformat": 4,
 "nbformat_minor": 4
}
