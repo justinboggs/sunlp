{
 "cells": [
  {
   "cell_type": "code",
   "execution_count": 91,
   "metadata": {},
   "outputs": [],
   "source": [
    "import pandas as pd"
   ]
  },
  {
   "cell_type": "markdown",
   "metadata": {},
   "source": [
    "### Competitor Prices"
   ]
  },
  {
   "cell_type": "code",
   "execution_count": 104,
   "metadata": {},
   "outputs": [
    {
     "name": "stdout",
     "output_type": "stream",
     "text": [
      "<class 'pandas.core.frame.DataFrame'>\n",
      "Int64Index: 29573 entries, 0 to 37061\n",
      "Data columns (total 5 columns):\n",
      " #   Column             Non-Null Count  Dtype         \n",
      "---  ------             --------------  -----         \n",
      " 0   Site_ID            29573 non-null  int64         \n",
      " 1   Competitor_ID      29573 non-null  int64         \n",
      " 2   Grade_Description  29573 non-null  object        \n",
      " 3   Date               29573 non-null  datetime64[ns]\n",
      " 4   Competitor_Price   29573 non-null  float64       \n",
      "dtypes: datetime64[ns](1), float64(1), int64(2), object(1)\n",
      "memory usage: 1.4+ MB\n"
     ]
    }
   ],
   "source": [
    "# Dropping nulls\n",
    "cprices = pd.read_excel('data/base/competitor_prices.xlsx')\n",
    "cpricesNN = cprices.dropna()\n",
    "cpricesNN.info()"
   ]
  },
  {
   "cell_type": "code",
   "execution_count": 126,
   "metadata": {},
   "outputs": [
    {
     "data": {
      "text/html": [
       "<div>\n",
       "<style scoped>\n",
       "    .dataframe tbody tr th:only-of-type {\n",
       "        vertical-align: middle;\n",
       "    }\n",
       "\n",
       "    .dataframe tbody tr th {\n",
       "        vertical-align: top;\n",
       "    }\n",
       "\n",
       "    .dataframe thead th {\n",
       "        text-align: right;\n",
       "    }\n",
       "</style>\n",
       "<table border=\"1\" class=\"dataframe\">\n",
       "  <thead>\n",
       "    <tr style=\"text-align: right;\">\n",
       "      <th></th>\n",
       "      <th>Site_ID</th>\n",
       "      <th>Competitor_ID</th>\n",
       "      <th>Grade_Description</th>\n",
       "      <th>Date</th>\n",
       "      <th>Competitor_Price</th>\n",
       "    </tr>\n",
       "  </thead>\n",
       "  <tbody>\n",
       "    <tr>\n",
       "      <th>0</th>\n",
       "      <td>10808</td>\n",
       "      <td>311365</td>\n",
       "      <td>Diesel</td>\n",
       "      <td>2019-08-27</td>\n",
       "      <td>2.429</td>\n",
       "    </tr>\n",
       "    <tr>\n",
       "      <th>1</th>\n",
       "      <td>10808</td>\n",
       "      <td>311365</td>\n",
       "      <td>Diesel</td>\n",
       "      <td>2019-08-28</td>\n",
       "      <td>2.429</td>\n",
       "    </tr>\n",
       "    <tr>\n",
       "      <th>2</th>\n",
       "      <td>10808</td>\n",
       "      <td>311365</td>\n",
       "      <td>Diesel</td>\n",
       "      <td>2019-08-29</td>\n",
       "      <td>2.429</td>\n",
       "    </tr>\n",
       "    <tr>\n",
       "      <th>3</th>\n",
       "      <td>10808</td>\n",
       "      <td>311365</td>\n",
       "      <td>Diesel</td>\n",
       "      <td>2019-08-30</td>\n",
       "      <td>2.429</td>\n",
       "    </tr>\n",
       "    <tr>\n",
       "      <th>4</th>\n",
       "      <td>10808</td>\n",
       "      <td>311365</td>\n",
       "      <td>Diesel</td>\n",
       "      <td>2019-08-31</td>\n",
       "      <td>2.429</td>\n",
       "    </tr>\n",
       "  </tbody>\n",
       "</table>\n",
       "</div>"
      ],
      "text/plain": [
       "   Site_ID  Competitor_ID Grade_Description       Date  Competitor_Price\n",
       "0    10808         311365            Diesel 2019-08-27             2.429\n",
       "1    10808         311365            Diesel 2019-08-28             2.429\n",
       "2    10808         311365            Diesel 2019-08-29             2.429\n",
       "3    10808         311365            Diesel 2019-08-30             2.429\n",
       "4    10808         311365            Diesel 2019-08-31             2.429"
      ]
     },
     "execution_count": 126,
     "metadata": {},
     "output_type": "execute_result"
    }
   ],
   "source": [
    "cpricesNN.head()"
   ]
  },
  {
   "cell_type": "code",
   "execution_count": 127,
   "metadata": {},
   "outputs": [
    {
     "data": {
      "text/html": [
       "<div>\n",
       "<style scoped>\n",
       "    .dataframe tbody tr th:only-of-type {\n",
       "        vertical-align: middle;\n",
       "    }\n",
       "\n",
       "    .dataframe tbody tr th {\n",
       "        vertical-align: top;\n",
       "    }\n",
       "\n",
       "    .dataframe thead th {\n",
       "        text-align: right;\n",
       "    }\n",
       "</style>\n",
       "<table border=\"1\" class=\"dataframe\">\n",
       "  <thead>\n",
       "    <tr style=\"text-align: right;\">\n",
       "      <th></th>\n",
       "      <th></th>\n",
       "      <th></th>\n",
       "      <th>Competitor_Price</th>\n",
       "    </tr>\n",
       "    <tr>\n",
       "      <th>Date</th>\n",
       "      <th>Site_ID</th>\n",
       "      <th>Grade_Description</th>\n",
       "      <th></th>\n",
       "    </tr>\n",
       "  </thead>\n",
       "  <tbody>\n",
       "    <tr>\n",
       "      <th rowspan=\"5\" valign=\"top\">2019-01-01</th>\n",
       "      <th rowspan=\"3\" valign=\"top\">10808</th>\n",
       "      <th>Diesel</th>\n",
       "      <td>2.674000</td>\n",
       "    </tr>\n",
       "    <tr>\n",
       "      <th>Premium Gas</th>\n",
       "      <td>1.799000</td>\n",
       "    </tr>\n",
       "    <tr>\n",
       "      <th>Unleaded Gas</th>\n",
       "      <td>1.825667</td>\n",
       "    </tr>\n",
       "    <tr>\n",
       "      <th rowspan=\"2\" valign=\"top\">10818</th>\n",
       "      <th>Diesel</th>\n",
       "      <td>2.752333</td>\n",
       "    </tr>\n",
       "    <tr>\n",
       "      <th>Midgrade Gas</th>\n",
       "      <td>2.449000</td>\n",
       "    </tr>\n",
       "  </tbody>\n",
       "</table>\n",
       "</div>"
      ],
      "text/plain": [
       "                                      Competitor_Price\n",
       "Date       Site_ID Grade_Description                  \n",
       "2019-01-01 10808   Diesel                     2.674000\n",
       "                   Premium Gas                1.799000\n",
       "                   Unleaded Gas               1.825667\n",
       "           10818   Diesel                     2.752333\n",
       "                   Midgrade Gas               2.449000"
      ]
     },
     "execution_count": 127,
     "metadata": {},
     "output_type": "execute_result"
    }
   ],
   "source": [
    "cpricesGROUP = cpricesNN.groupby(['Date', 'Site_ID', 'Grade_Description']).agg({'Competitor_Price': 'mean'})\n",
    "cpricesGROUP.head()"
   ]
  },
  {
   "cell_type": "code",
   "execution_count": 139,
   "metadata": {},
   "outputs": [],
   "source": [
    "cpricesGROUP.to_csv('data/adjusted/competitor_prices_ADJ.csv')"
   ]
  },
  {
   "cell_type": "code",
   "execution_count": 93,
   "metadata": {},
   "outputs": [],
   "source": [
    "# cprices19 = cpricesNN[(cpricesNN['Date'].dt.year == 2019)]\n",
    "# cprices19.head()"
   ]
  },
  {
   "cell_type": "code",
   "execution_count": 94,
   "metadata": {},
   "outputs": [],
   "source": [
    "# cprices20 = cpricesNN[(cpricesNN['Date'].dt.year == 2020)]\n",
    "# cprices20.head()"
   ]
  },
  {
   "cell_type": "code",
   "execution_count": 95,
   "metadata": {},
   "outputs": [],
   "source": [
    "# cpricesNO = pd.concat([cprices19, cprices20])\n",
    "# cpricesNO.head()"
   ]
  },
  {
   "cell_type": "code",
   "execution_count": 97,
   "metadata": {},
   "outputs": [],
   "source": [
    "# cpricesGROUP.to_csv('data/competitor_prices_ADJ.csv')"
   ]
  },
  {
   "cell_type": "markdown",
   "metadata": {},
   "source": [
    "### Site profit"
   ]
  },
  {
   "cell_type": "code",
   "execution_count": 98,
   "metadata": {},
   "outputs": [
    {
     "name": "stdout",
     "output_type": "stream",
     "text": [
      "<class 'pandas.core.frame.DataFrame'>\n",
      "Int64Index: 5914 entries, 0 to 6578\n",
      "Data columns (total 4 columns):\n",
      " #   Column             Non-Null Count  Dtype         \n",
      "---  ------             --------------  -----         \n",
      " 0   Site_ID            5914 non-null   int64         \n",
      " 1   Grade_Description  5914 non-null   object        \n",
      " 2   Date               5914 non-null   datetime64[ns]\n",
      " 3   Profit             5914 non-null   float64       \n",
      "dtypes: datetime64[ns](1), float64(1), int64(1), object(1)\n",
      "memory usage: 231.0+ KB\n"
     ]
    }
   ],
   "source": [
    "# Dropping nulls\n",
    "sprofit = pd.read_excel('data/base/site_profit.xlsx')\n",
    "sprofitNN = sprofit.dropna()\n",
    "sprofitNN.info()"
   ]
  },
  {
   "cell_type": "code",
   "execution_count": 134,
   "metadata": {},
   "outputs": [],
   "source": [
    "sprofitNN.to_csv('data/adjusted/site_profit_ADJ.csv', index=False)"
   ]
  },
  {
   "cell_type": "markdown",
   "metadata": {},
   "source": [
    "### Site volume"
   ]
  },
  {
   "cell_type": "code",
   "execution_count": 100,
   "metadata": {},
   "outputs": [
    {
     "name": "stdout",
     "output_type": "stream",
     "text": [
      "<class 'pandas.core.frame.DataFrame'>\n",
      "Int64Index: 5930 entries, 0 to 6578\n",
      "Data columns (total 4 columns):\n",
      " #   Column             Non-Null Count  Dtype         \n",
      "---  ------             --------------  -----         \n",
      " 0   Site_ID            5930 non-null   int64         \n",
      " 1   Grade_Description  5930 non-null   object        \n",
      " 2   Date               5930 non-null   datetime64[ns]\n",
      " 3   Volume             5930 non-null   float64       \n",
      "dtypes: datetime64[ns](1), float64(1), int64(1), object(1)\n",
      "memory usage: 231.6+ KB\n"
     ]
    }
   ],
   "source": [
    "# Dropping nulls\n",
    "svol = pd.read_excel('data/base/site_volume.xlsx')\n",
    "svolNN = svol.dropna()\n",
    "svolNN.info()"
   ]
  },
  {
   "cell_type": "code",
   "execution_count": 136,
   "metadata": {},
   "outputs": [],
   "source": [
    "svolNN.to_csv('data/adjusted/site_volume_ADJ.csv', index=False)"
   ]
  },
  {
   "cell_type": "markdown",
   "metadata": {},
   "source": [
    "### Replacement cost"
   ]
  },
  {
   "cell_type": "code",
   "execution_count": 117,
   "metadata": {},
   "outputs": [
    {
     "data": {
      "text/html": [
       "<div>\n",
       "<style scoped>\n",
       "    .dataframe tbody tr th:only-of-type {\n",
       "        vertical-align: middle;\n",
       "    }\n",
       "\n",
       "    .dataframe tbody tr th {\n",
       "        vertical-align: top;\n",
       "    }\n",
       "\n",
       "    .dataframe thead th {\n",
       "        text-align: right;\n",
       "    }\n",
       "</style>\n",
       "<table border=\"1\" class=\"dataframe\">\n",
       "  <thead>\n",
       "    <tr style=\"text-align: right;\">\n",
       "      <th></th>\n",
       "      <th>Date</th>\n",
       "      <th>Unleaded Gas Cost</th>\n",
       "      <th>Diesel Cost</th>\n",
       "      <th>Midgrade Gas Cost</th>\n",
       "      <th>Premium Gas Cost</th>\n",
       "    </tr>\n",
       "  </thead>\n",
       "  <tbody>\n",
       "    <tr>\n",
       "      <th>0</th>\n",
       "      <td>2018-12-01</td>\n",
       "      <td>1.4413</td>\n",
       "      <td>1.287061</td>\n",
       "      <td>1.527463</td>\n",
       "      <td>1.628971</td>\n",
       "    </tr>\n",
       "    <tr>\n",
       "      <th>1</th>\n",
       "      <td>2018-12-02</td>\n",
       "      <td>1.4413</td>\n",
       "      <td>1.283675</td>\n",
       "      <td>1.522660</td>\n",
       "      <td>1.629263</td>\n",
       "    </tr>\n",
       "    <tr>\n",
       "      <th>2</th>\n",
       "      <td>2018-12-03</td>\n",
       "      <td>1.4314</td>\n",
       "      <td>1.290575</td>\n",
       "      <td>1.535742</td>\n",
       "      <td>1.618202</td>\n",
       "    </tr>\n",
       "    <tr>\n",
       "      <th>3</th>\n",
       "      <td>2018-12-04</td>\n",
       "      <td>1.4434</td>\n",
       "      <td>1.313937</td>\n",
       "      <td>1.573385</td>\n",
       "      <td>1.650614</td>\n",
       "    </tr>\n",
       "    <tr>\n",
       "      <th>4</th>\n",
       "      <td>2018-12-05</td>\n",
       "      <td>1.4456</td>\n",
       "      <td>1.285454</td>\n",
       "      <td>1.538296</td>\n",
       "      <td>1.632224</td>\n",
       "    </tr>\n",
       "  </tbody>\n",
       "</table>\n",
       "</div>"
      ],
      "text/plain": [
       "        Date  Unleaded Gas Cost  Diesel Cost  Midgrade Gas Cost  \\\n",
       "0 2018-12-01             1.4413     1.287061           1.527463   \n",
       "1 2018-12-02             1.4413     1.283675           1.522660   \n",
       "2 2018-12-03             1.4314     1.290575           1.535742   \n",
       "3 2018-12-04             1.4434     1.313937           1.573385   \n",
       "4 2018-12-05             1.4456     1.285454           1.538296   \n",
       "\n",
       "   Premium Gas Cost  \n",
       "0          1.628971  \n",
       "1          1.629263  \n",
       "2          1.618202  \n",
       "3          1.650614  \n",
       "4          1.632224  "
      ]
     },
     "execution_count": 117,
     "metadata": {},
     "output_type": "execute_result"
    }
   ],
   "source": [
    "sreplace = pd.read_excel('data/base/site_replacement_cost.xlsx')\n",
    "sreplace.head()"
   ]
  },
  {
   "cell_type": "code",
   "execution_count": 118,
   "metadata": {},
   "outputs": [
    {
     "data": {
      "text/html": [
       "<div>\n",
       "<style scoped>\n",
       "    .dataframe tbody tr th:only-of-type {\n",
       "        vertical-align: middle;\n",
       "    }\n",
       "\n",
       "    .dataframe tbody tr th {\n",
       "        vertical-align: top;\n",
       "    }\n",
       "\n",
       "    .dataframe thead th {\n",
       "        text-align: right;\n",
       "    }\n",
       "</style>\n",
       "<table border=\"1\" class=\"dataframe\">\n",
       "  <thead>\n",
       "    <tr style=\"text-align: right;\">\n",
       "      <th></th>\n",
       "      <th>Date</th>\n",
       "      <th>Unleaded Gas Cost</th>\n",
       "      <th>Midgrade Gas Cost</th>\n",
       "      <th>Premium Gas Cost</th>\n",
       "    </tr>\n",
       "  </thead>\n",
       "  <tbody>\n",
       "    <tr>\n",
       "      <th>848</th>\n",
       "      <td>2021-03-28</td>\n",
       "      <td>1.9673</td>\n",
       "      <td>2.055534</td>\n",
       "      <td>2.176028</td>\n",
       "    </tr>\n",
       "    <tr>\n",
       "      <th>849</th>\n",
       "      <td>2021-03-29</td>\n",
       "      <td>1.9952</td>\n",
       "      <td>2.122627</td>\n",
       "      <td>2.224577</td>\n",
       "    </tr>\n",
       "    <tr>\n",
       "      <th>850</th>\n",
       "      <td>2021-03-30</td>\n",
       "      <td>1.9890</td>\n",
       "      <td>2.067862</td>\n",
       "      <td>2.186994</td>\n",
       "    </tr>\n",
       "    <tr>\n",
       "      <th>851</th>\n",
       "      <td>2021-03-31</td>\n",
       "      <td>1.9533</td>\n",
       "      <td>2.026305</td>\n",
       "      <td>2.159443</td>\n",
       "    </tr>\n",
       "    <tr>\n",
       "      <th>852</th>\n",
       "      <td>2021-04-01</td>\n",
       "      <td>2.0223</td>\n",
       "      <td>2.140848</td>\n",
       "      <td>2.249888</td>\n",
       "    </tr>\n",
       "  </tbody>\n",
       "</table>\n",
       "</div>"
      ],
      "text/plain": [
       "          Date  Unleaded Gas Cost  Midgrade Gas Cost  Premium Gas Cost\n",
       "848 2021-03-28             1.9673           2.055534          2.176028\n",
       "849 2021-03-29             1.9952           2.122627          2.224577\n",
       "850 2021-03-30             1.9890           2.067862          2.186994\n",
       "851 2021-03-31             1.9533           2.026305          2.159443\n",
       "852 2021-04-01             2.0223           2.140848          2.249888"
      ]
     },
     "execution_count": 118,
     "metadata": {},
     "output_type": "execute_result"
    }
   ],
   "source": [
    "# No diesel in other charts, removing column\n",
    "sreplace = sreplace.drop(columns=['Diesel Cost'], axis=1)\n",
    "sreplace.tail()"
   ]
  },
  {
   "cell_type": "code",
   "execution_count": 124,
   "metadata": {},
   "outputs": [
    {
     "data": {
      "text/html": [
       "<div>\n",
       "<style scoped>\n",
       "    .dataframe tbody tr th:only-of-type {\n",
       "        vertical-align: middle;\n",
       "    }\n",
       "\n",
       "    .dataframe tbody tr th {\n",
       "        vertical-align: top;\n",
       "    }\n",
       "\n",
       "    .dataframe thead th {\n",
       "        text-align: right;\n",
       "    }\n",
       "</style>\n",
       "<table border=\"1\" class=\"dataframe\">\n",
       "  <thead>\n",
       "    <tr style=\"text-align: right;\">\n",
       "      <th></th>\n",
       "      <th>Date</th>\n",
       "      <th>Unleaded_Gas_Cost</th>\n",
       "      <th>Midgrade_Gas_Cost</th>\n",
       "      <th>Premium_Gas_Cost</th>\n",
       "    </tr>\n",
       "  </thead>\n",
       "  <tbody>\n",
       "    <tr>\n",
       "      <th>0</th>\n",
       "      <td>2018-12-01</td>\n",
       "      <td>1.4413</td>\n",
       "      <td>1.527463</td>\n",
       "      <td>1.628971</td>\n",
       "    </tr>\n",
       "    <tr>\n",
       "      <th>1</th>\n",
       "      <td>2018-12-02</td>\n",
       "      <td>1.4413</td>\n",
       "      <td>1.522660</td>\n",
       "      <td>1.629263</td>\n",
       "    </tr>\n",
       "    <tr>\n",
       "      <th>2</th>\n",
       "      <td>2018-12-03</td>\n",
       "      <td>1.4314</td>\n",
       "      <td>1.535742</td>\n",
       "      <td>1.618202</td>\n",
       "    </tr>\n",
       "    <tr>\n",
       "      <th>3</th>\n",
       "      <td>2018-12-04</td>\n",
       "      <td>1.4434</td>\n",
       "      <td>1.573385</td>\n",
       "      <td>1.650614</td>\n",
       "    </tr>\n",
       "    <tr>\n",
       "      <th>4</th>\n",
       "      <td>2018-12-05</td>\n",
       "      <td>1.4456</td>\n",
       "      <td>1.538296</td>\n",
       "      <td>1.632224</td>\n",
       "    </tr>\n",
       "  </tbody>\n",
       "</table>\n",
       "</div>"
      ],
      "text/plain": [
       "        Date  Unleaded_Gas_Cost  Midgrade_Gas_Cost  Premium_Gas_Cost\n",
       "0 2018-12-01             1.4413           1.527463          1.628971\n",
       "1 2018-12-02             1.4413           1.522660          1.629263\n",
       "2 2018-12-03             1.4314           1.535742          1.618202\n",
       "3 2018-12-04             1.4434           1.573385          1.650614\n",
       "4 2018-12-05             1.4456           1.538296          1.632224"
      ]
     },
     "execution_count": 124,
     "metadata": {},
     "output_type": "execute_result"
    }
   ],
   "source": [
    "# Rename columns\n",
    "sreplace = sreplace.rename(columns={'Unleaded Gas Cost': 'Unleaded_Gas_Cost', 'Midgrade Gas Cost': 'Midgrade_Gas_Cost',\n",
    "                         'Premium Gas Cost': 'Premium_Gas_Cost'})\n",
    "sreplace.head()"
   ]
  },
  {
   "cell_type": "code",
   "execution_count": 138,
   "metadata": {},
   "outputs": [],
   "source": [
    "# Saving to csv\n",
    "sreplaceADJ.to_csv('data/adjusted/site_replacement_cost_ADJ.csv', index=False)"
   ]
  },
  {
   "cell_type": "markdown",
   "metadata": {},
   "source": [
    "### Site prices"
   ]
  },
  {
   "cell_type": "code",
   "execution_count": 102,
   "metadata": {},
   "outputs": [
    {
     "name": "stdout",
     "output_type": "stream",
     "text": [
      "<class 'pandas.core.frame.DataFrame'>\n",
      "RangeIndex: 6579 entries, 0 to 6578\n",
      "Data columns (total 4 columns):\n",
      " #   Column             Non-Null Count  Dtype         \n",
      "---  ------             --------------  -----         \n",
      " 0   Site_ID            6579 non-null   int64         \n",
      " 1   Grade_Description  6579 non-null   object        \n",
      " 2   Date               6579 non-null   datetime64[ns]\n",
      " 3   Price              6579 non-null   float64       \n",
      "dtypes: datetime64[ns](1), float64(1), int64(1), object(1)\n",
      "memory usage: 205.7+ KB\n"
     ]
    }
   ],
   "source": [
    "# Reading data\n",
    "sprices = pd.read_excel('data/base/site_prices.xlsx')\n",
    "sprices.info()"
   ]
  },
  {
   "cell_type": "code",
   "execution_count": 137,
   "metadata": {},
   "outputs": [],
   "source": [
    "# Saving to csv\n",
    "sprices.to_csv('data/adjusted/site_prices_ADJ.csv', index=False)"
   ]
  },
  {
   "cell_type": "code",
   "execution_count": null,
   "metadata": {},
   "outputs": [],
   "source": []
  }
 ],
 "metadata": {
  "kernelspec": {
   "display_name": "Python 3",
   "language": "python",
   "name": "python3"
  },
  "language_info": {
   "codemirror_mode": {
    "name": "ipython",
    "version": 3
   },
   "file_extension": ".py",
   "mimetype": "text/x-python",
   "name": "python",
   "nbconvert_exporter": "python",
   "pygments_lexer": "ipython3",
   "version": "3.7.6"
  }
 },
 "nbformat": 4,
 "nbformat_minor": 4
}
