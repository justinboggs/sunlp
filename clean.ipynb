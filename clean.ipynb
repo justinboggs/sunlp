{
 "cells": [
  {
   "cell_type": "code",
   "execution_count": 2,
   "metadata": {},
   "outputs": [],
   "source": [
    "import pandas as pd"
   ]
  },
  {
   "cell_type": "code",
   "execution_count": 3,
   "metadata": {},
   "outputs": [
    {
     "name": "stdout",
     "output_type": "stream",
     "text": [
      "<class 'pandas.core.frame.DataFrame'>\n",
      "RangeIndex: 37062 entries, 0 to 37061\n",
      "Data columns (total 5 columns):\n",
      " #   Column             Non-Null Count  Dtype         \n",
      "---  ------             --------------  -----         \n",
      " 0   Site_ID            37062 non-null  int64         \n",
      " 1   Competitor_ID      37062 non-null  int64         \n",
      " 2   Grade_Description  37062 non-null  object        \n",
      " 3   Date               37062 non-null  datetime64[ns]\n",
      " 4   Competitor_Price   29573 non-null  float64       \n",
      "dtypes: datetime64[ns](1), float64(1), int64(2), object(1)\n",
      "memory usage: 1.4+ MB\n"
     ]
    }
   ],
   "source": [
    "cprices = pd.read_excel('data/competitor_prices.xlsx')\n",
    "cprices.info()"
   ]
  },
  {
   "cell_type": "code",
   "execution_count": 5,
   "metadata": {},
   "outputs": [
    {
     "name": "stdout",
     "output_type": "stream",
     "text": [
      "<class 'pandas.core.frame.DataFrame'>\n",
      "Int64Index: 29573 entries, 0 to 37061\n",
      "Data columns (total 5 columns):\n",
      " #   Column             Non-Null Count  Dtype         \n",
      "---  ------             --------------  -----         \n",
      " 0   Site_ID            29573 non-null  int64         \n",
      " 1   Competitor_ID      29573 non-null  int64         \n",
      " 2   Grade_Description  29573 non-null  object        \n",
      " 3   Date               29573 non-null  datetime64[ns]\n",
      " 4   Competitor_Price   29573 non-null  float64       \n",
      "dtypes: datetime64[ns](1), float64(1), int64(2), object(1)\n",
      "memory usage: 1.4+ MB\n"
     ]
    }
   ],
   "source": [
    "cpricesNN = cprices.dropna()\n",
    "cpricesNN.info()"
   ]
  },
  {
   "cell_type": "code",
   "execution_count": 8,
   "metadata": {},
   "outputs": [
    {
     "name": "stdout",
     "output_type": "stream",
     "text": [
      "<class 'pandas.core.frame.DataFrame'>\n",
      "RangeIndex: 6579 entries, 0 to 6578\n",
      "Data columns (total 4 columns):\n",
      " #   Column             Non-Null Count  Dtype         \n",
      "---  ------             --------------  -----         \n",
      " 0   Site_ID            6579 non-null   int64         \n",
      " 1   Grade_Description  6579 non-null   object        \n",
      " 2   Date               6579 non-null   datetime64[ns]\n",
      " 3   Profit             5914 non-null   float64       \n",
      "dtypes: datetime64[ns](1), float64(1), int64(1), object(1)\n",
      "memory usage: 205.7+ KB\n"
     ]
    }
   ],
   "source": [
    "sprofit = pd.read_excel('data/site_profit.xlsx')\n",
    "sprofit.info()"
   ]
  },
  {
   "cell_type": "code",
   "execution_count": 10,
   "metadata": {},
   "outputs": [
    {
     "name": "stdout",
     "output_type": "stream",
     "text": [
      "<class 'pandas.core.frame.DataFrame'>\n",
      "Int64Index: 5914 entries, 0 to 6578\n",
      "Data columns (total 4 columns):\n",
      " #   Column             Non-Null Count  Dtype         \n",
      "---  ------             --------------  -----         \n",
      " 0   Site_ID            5914 non-null   int64         \n",
      " 1   Grade_Description  5914 non-null   object        \n",
      " 2   Date               5914 non-null   datetime64[ns]\n",
      " 3   Profit             5914 non-null   float64       \n",
      "dtypes: datetime64[ns](1), float64(1), int64(1), object(1)\n",
      "memory usage: 231.0+ KB\n"
     ]
    }
   ],
   "source": [
    "sprofitNN = sprofit.dropna()\n",
    "sprofitNN.info()"
   ]
  },
  {
   "cell_type": "code",
   "execution_count": 11,
   "metadata": {},
   "outputs": [
    {
     "name": "stdout",
     "output_type": "stream",
     "text": [
      "<class 'pandas.core.frame.DataFrame'>\n",
      "RangeIndex: 6579 entries, 0 to 6578\n",
      "Data columns (total 4 columns):\n",
      " #   Column             Non-Null Count  Dtype         \n",
      "---  ------             --------------  -----         \n",
      " 0   Site_ID            6579 non-null   int64         \n",
      " 1   Grade_Description  6579 non-null   object        \n",
      " 2   Date               6579 non-null   datetime64[ns]\n",
      " 3   Volume             5930 non-null   float64       \n",
      "dtypes: datetime64[ns](1), float64(1), int64(1), object(1)\n",
      "memory usage: 205.7+ KB\n"
     ]
    }
   ],
   "source": [
    "svol = pd.read_excel('data/site_volume.xlsx')\n",
    "svol.info()"
   ]
  },
  {
   "cell_type": "code",
   "execution_count": 12,
   "metadata": {},
   "outputs": [
    {
     "name": "stdout",
     "output_type": "stream",
     "text": [
      "<class 'pandas.core.frame.DataFrame'>\n",
      "Int64Index: 5930 entries, 0 to 6578\n",
      "Data columns (total 4 columns):\n",
      " #   Column             Non-Null Count  Dtype         \n",
      "---  ------             --------------  -----         \n",
      " 0   Site_ID            5930 non-null   int64         \n",
      " 1   Grade_Description  5930 non-null   object        \n",
      " 2   Date               5930 non-null   datetime64[ns]\n",
      " 3   Volume             5930 non-null   float64       \n",
      "dtypes: datetime64[ns](1), float64(1), int64(1), object(1)\n",
      "memory usage: 231.6+ KB\n"
     ]
    }
   ],
   "source": [
    "svolNN = svol.dropna()\n",
    "svolNN.info()"
   ]
  },
  {
   "cell_type": "code",
   "execution_count": null,
   "metadata": {},
   "outputs": [],
   "source": []
  }
 ],
 "metadata": {
  "kernelspec": {
   "display_name": "Python 3",
   "language": "python",
   "name": "python3"
  },
  "language_info": {
   "codemirror_mode": {
    "name": "ipython",
    "version": 3
   },
   "file_extension": ".py",
   "mimetype": "text/x-python",
   "name": "python",
   "nbconvert_exporter": "python",
   "pygments_lexer": "ipython3",
   "version": "3.7.6"
  }
 },
 "nbformat": 4,
 "nbformat_minor": 4
}
