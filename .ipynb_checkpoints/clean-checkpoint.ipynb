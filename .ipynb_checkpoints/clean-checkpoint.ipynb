{
 "cells": [
  {
   "cell_type": "code",
   "execution_count": 27,
   "metadata": {},
   "outputs": [],
   "source": [
    "import pandas as pd"
   ]
  },
  {
   "cell_type": "markdown",
   "metadata": {},
   "source": [
    "### Dropping nulls from competitor prices, removing extra dates, grouping and averaging."
   ]
  },
  {
   "cell_type": "code",
   "execution_count": 41,
   "metadata": {},
   "outputs": [
    {
     "name": "stdout",
     "output_type": "stream",
     "text": [
      "<class 'pandas.core.frame.DataFrame'>\n",
      "Int64Index: 29573 entries, 0 to 37061\n",
      "Data columns (total 5 columns):\n",
      " #   Column             Non-Null Count  Dtype         \n",
      "---  ------             --------------  -----         \n",
      " 0   Site_ID            29573 non-null  int64         \n",
      " 1   Competitor_ID      29573 non-null  int64         \n",
      " 2   Grade_Description  29573 non-null  object        \n",
      " 3   Date               29573 non-null  datetime64[ns]\n",
      " 4   Competitor_Price   29573 non-null  float64       \n",
      "dtypes: datetime64[ns](1), float64(1), int64(2), object(1)\n",
      "memory usage: 1.4+ MB\n"
     ]
    }
   ],
   "source": [
    "cprices = pd.read_excel('data/competitor_prices.xlsx')\n",
    "cpricesNN = cprices.dropna()\n",
    "cpricesNN.info()"
   ]
  },
  {
   "cell_type": "code",
   "execution_count": 61,
   "metadata": {},
   "outputs": [
    {
     "name": "stdout",
     "output_type": "stream",
     "text": [
      "2019-01-01 00:00:00\n"
     ]
    }
   ],
   "source": [
    "print(min(cpricesNN['Date']))"
   ]
  },
  {
   "cell_type": "code",
   "execution_count": 46,
   "metadata": {},
   "outputs": [
    {
     "name": "stdout",
     "output_type": "stream",
     "text": [
      "2020-12-31 00:00:00\n"
     ]
    }
   ],
   "source": [
    "print(max(cpricesNN['Date']))"
   ]
  },
  {
   "cell_type": "code",
   "execution_count": 30,
   "metadata": {},
   "outputs": [],
   "source": [
    "# cprices19 = cpricesNN[(cpricesNN['Date'].dt.year == 2019)]\n",
    "# cprices19.head()"
   ]
  },
  {
   "cell_type": "code",
   "execution_count": 31,
   "metadata": {},
   "outputs": [],
   "source": [
    "# cprices20 = cpricesNN[(cpricesNN['Date'].dt.year == 2020)]\n",
    "# cprices20.head()"
   ]
  },
  {
   "cell_type": "code",
   "execution_count": 33,
   "metadata": {},
   "outputs": [],
   "source": [
    "# cpricesNO = pd.concat([cprices19, cprices20])\n",
    "# cpricesNO.head()"
   ]
  },
  {
   "cell_type": "code",
   "execution_count": 32,
   "metadata": {},
   "outputs": [],
   "source": [
    "# cpricesGROUP = cpricesNO.groupby(['Date', 'Site_ID', 'Grade_Description']).agg({'Competitor_Price': 'mean'})\n",
    "# cpricesGROUP.head()"
   ]
  },
  {
   "cell_type": "code",
   "execution_count": 34,
   "metadata": {},
   "outputs": [],
   "source": [
    "# cpricesGROUP.to_csv('data/competitor_prices_ADJ.csv')"
   ]
  },
  {
   "cell_type": "markdown",
   "metadata": {},
   "source": [
    "### Dropping nulls from site profit."
   ]
  },
  {
   "cell_type": "code",
   "execution_count": 43,
   "metadata": {},
   "outputs": [
    {
     "name": "stdout",
     "output_type": "stream",
     "text": [
      "<class 'pandas.core.frame.DataFrame'>\n",
      "Int64Index: 5914 entries, 0 to 6578\n",
      "Data columns (total 4 columns):\n",
      " #   Column             Non-Null Count  Dtype         \n",
      "---  ------             --------------  -----         \n",
      " 0   Site_ID            5914 non-null   int64         \n",
      " 1   Grade_Description  5914 non-null   object        \n",
      " 2   Date               5914 non-null   datetime64[ns]\n",
      " 3   Profit             5914 non-null   float64       \n",
      "dtypes: datetime64[ns](1), float64(1), int64(1), object(1)\n",
      "memory usage: 231.0+ KB\n"
     ]
    }
   ],
   "source": [
    "sprofit = pd.read_excel('data/site_profit.xlsx')\n",
    "sprofitNN = sprofit.dropna()\n",
    "sprofitNN.info()"
   ]
  },
  {
   "cell_type": "code",
   "execution_count": 37,
   "metadata": {},
   "outputs": [],
   "source": [
    "sprofitNN.to_csv('data/site_profit_ADJ.csv', index=False)"
   ]
  },
  {
   "cell_type": "markdown",
   "metadata": {},
   "source": [
    "### Dropping nulls from site volume."
   ]
  },
  {
   "cell_type": "code",
   "execution_count": 44,
   "metadata": {},
   "outputs": [
    {
     "name": "stdout",
     "output_type": "stream",
     "text": [
      "<class 'pandas.core.frame.DataFrame'>\n",
      "Int64Index: 5930 entries, 0 to 6578\n",
      "Data columns (total 4 columns):\n",
      " #   Column             Non-Null Count  Dtype         \n",
      "---  ------             --------------  -----         \n",
      " 0   Site_ID            5930 non-null   int64         \n",
      " 1   Grade_Description  5930 non-null   object        \n",
      " 2   Date               5930 non-null   datetime64[ns]\n",
      " 3   Volume             5930 non-null   float64       \n",
      "dtypes: datetime64[ns](1), float64(1), int64(1), object(1)\n",
      "memory usage: 231.6+ KB\n"
     ]
    }
   ],
   "source": [
    "svol = pd.read_excel('data/site_volume.xlsx')\n",
    "svolNN = svol.dropna()\n",
    "svolNN.info()"
   ]
  },
  {
   "cell_type": "code",
   "execution_count": 40,
   "metadata": {},
   "outputs": [],
   "source": [
    "svolNN.to_csv('data/site_volume_ADJ.csv', index=False)"
   ]
  },
  {
   "cell_type": "markdown",
   "metadata": {},
   "source": [
    "### Dropping extra dates from site replacement cost."
   ]
  },
  {
   "cell_type": "code",
   "execution_count": 14,
   "metadata": {},
   "outputs": [
    {
     "data": {
      "text/html": [
       "<div>\n",
       "<style scoped>\n",
       "    .dataframe tbody tr th:only-of-type {\n",
       "        vertical-align: middle;\n",
       "    }\n",
       "\n",
       "    .dataframe tbody tr th {\n",
       "        vertical-align: top;\n",
       "    }\n",
       "\n",
       "    .dataframe thead th {\n",
       "        text-align: right;\n",
       "    }\n",
       "</style>\n",
       "<table border=\"1\" class=\"dataframe\">\n",
       "  <thead>\n",
       "    <tr style=\"text-align: right;\">\n",
       "      <th></th>\n",
       "      <th>Date</th>\n",
       "      <th>Unleaded Gas Cost</th>\n",
       "      <th>Diesel Cost</th>\n",
       "      <th>Midgrade Gas Cost</th>\n",
       "      <th>Premium Gas Cost</th>\n",
       "    </tr>\n",
       "  </thead>\n",
       "  <tbody>\n",
       "    <tr>\n",
       "      <th>0</th>\n",
       "      <td>2018-12-01</td>\n",
       "      <td>1.4413</td>\n",
       "      <td>1.287061</td>\n",
       "      <td>1.527463</td>\n",
       "      <td>1.628971</td>\n",
       "    </tr>\n",
       "    <tr>\n",
       "      <th>1</th>\n",
       "      <td>2018-12-02</td>\n",
       "      <td>1.4413</td>\n",
       "      <td>1.283675</td>\n",
       "      <td>1.522660</td>\n",
       "      <td>1.629263</td>\n",
       "    </tr>\n",
       "    <tr>\n",
       "      <th>2</th>\n",
       "      <td>2018-12-03</td>\n",
       "      <td>1.4314</td>\n",
       "      <td>1.290575</td>\n",
       "      <td>1.535742</td>\n",
       "      <td>1.618202</td>\n",
       "    </tr>\n",
       "    <tr>\n",
       "      <th>3</th>\n",
       "      <td>2018-12-04</td>\n",
       "      <td>1.4434</td>\n",
       "      <td>1.313937</td>\n",
       "      <td>1.573385</td>\n",
       "      <td>1.650614</td>\n",
       "    </tr>\n",
       "    <tr>\n",
       "      <th>4</th>\n",
       "      <td>2018-12-05</td>\n",
       "      <td>1.4456</td>\n",
       "      <td>1.285454</td>\n",
       "      <td>1.538296</td>\n",
       "      <td>1.632224</td>\n",
       "    </tr>\n",
       "  </tbody>\n",
       "</table>\n",
       "</div>"
      ],
      "text/plain": [
       "        Date  Unleaded Gas Cost  Diesel Cost  Midgrade Gas Cost  \\\n",
       "0 2018-12-01             1.4413     1.287061           1.527463   \n",
       "1 2018-12-02             1.4413     1.283675           1.522660   \n",
       "2 2018-12-03             1.4314     1.290575           1.535742   \n",
       "3 2018-12-04             1.4434     1.313937           1.573385   \n",
       "4 2018-12-05             1.4456     1.285454           1.538296   \n",
       "\n",
       "   Premium Gas Cost  \n",
       "0          1.628971  \n",
       "1          1.629263  \n",
       "2          1.618202  \n",
       "3          1.650614  \n",
       "4          1.632224  "
      ]
     },
     "execution_count": 14,
     "metadata": {},
     "output_type": "execute_result"
    }
   ],
   "source": [
    "sreplace = pd.read_excel('data/site_replacement_cost.xlsx')\n",
    "sreplace.head()"
   ]
  },
  {
   "cell_type": "code",
   "execution_count": 24,
   "metadata": {},
   "outputs": [
    {
     "data": {
      "text/html": [
       "<div>\n",
       "<style scoped>\n",
       "    .dataframe tbody tr th:only-of-type {\n",
       "        vertical-align: middle;\n",
       "    }\n",
       "\n",
       "    .dataframe tbody tr th {\n",
       "        vertical-align: top;\n",
       "    }\n",
       "\n",
       "    .dataframe thead th {\n",
       "        text-align: right;\n",
       "    }\n",
       "</style>\n",
       "<table border=\"1\" class=\"dataframe\">\n",
       "  <thead>\n",
       "    <tr style=\"text-align: right;\">\n",
       "      <th></th>\n",
       "      <th>Date</th>\n",
       "      <th>Unleaded Gas Cost</th>\n",
       "      <th>Diesel Cost</th>\n",
       "      <th>Midgrade Gas Cost</th>\n",
       "      <th>Premium Gas Cost</th>\n",
       "    </tr>\n",
       "  </thead>\n",
       "  <tbody>\n",
       "    <tr>\n",
       "      <th>31</th>\n",
       "      <td>2019-01-01</td>\n",
       "      <td>1.3237</td>\n",
       "      <td>1.176109</td>\n",
       "      <td>1.409889</td>\n",
       "      <td>1.534257</td>\n",
       "    </tr>\n",
       "    <tr>\n",
       "      <th>32</th>\n",
       "      <td>2019-01-02</td>\n",
       "      <td>1.3256</td>\n",
       "      <td>1.201517</td>\n",
       "      <td>1.434353</td>\n",
       "      <td>1.535803</td>\n",
       "    </tr>\n",
       "    <tr>\n",
       "      <th>33</th>\n",
       "      <td>2019-01-03</td>\n",
       "      <td>1.3495</td>\n",
       "      <td>1.225239</td>\n",
       "      <td>1.454955</td>\n",
       "      <td>1.553484</td>\n",
       "    </tr>\n",
       "    <tr>\n",
       "      <th>34</th>\n",
       "      <td>2019-01-04</td>\n",
       "      <td>1.3478</td>\n",
       "      <td>1.170962</td>\n",
       "      <td>1.453069</td>\n",
       "      <td>1.552687</td>\n",
       "    </tr>\n",
       "    <tr>\n",
       "      <th>35</th>\n",
       "      <td>2019-01-05</td>\n",
       "      <td>1.3478</td>\n",
       "      <td>1.212443</td>\n",
       "      <td>1.462783</td>\n",
       "      <td>1.551202</td>\n",
       "    </tr>\n",
       "  </tbody>\n",
       "</table>\n",
       "</div>"
      ],
      "text/plain": [
       "         Date  Unleaded Gas Cost  Diesel Cost  Midgrade Gas Cost  \\\n",
       "31 2019-01-01             1.3237     1.176109           1.409889   \n",
       "32 2019-01-02             1.3256     1.201517           1.434353   \n",
       "33 2019-01-03             1.3495     1.225239           1.454955   \n",
       "34 2019-01-04             1.3478     1.170962           1.453069   \n",
       "35 2019-01-05             1.3478     1.212443           1.462783   \n",
       "\n",
       "    Premium Gas Cost  \n",
       "31          1.534257  \n",
       "32          1.535803  \n",
       "33          1.553484  \n",
       "34          1.552687  \n",
       "35          1.551202  "
      ]
     },
     "execution_count": 24,
     "metadata": {},
     "output_type": "execute_result"
    }
   ],
   "source": [
    "sreplace19 = sreplace[(sreplace['Date'].dt.year == 2019)]\n",
    "sreplace19.head()"
   ]
  },
  {
   "cell_type": "code",
   "execution_count": 25,
   "metadata": {},
   "outputs": [
    {
     "data": {
      "text/html": [
       "<div>\n",
       "<style scoped>\n",
       "    .dataframe tbody tr th:only-of-type {\n",
       "        vertical-align: middle;\n",
       "    }\n",
       "\n",
       "    .dataframe tbody tr th {\n",
       "        vertical-align: top;\n",
       "    }\n",
       "\n",
       "    .dataframe thead th {\n",
       "        text-align: right;\n",
       "    }\n",
       "</style>\n",
       "<table border=\"1\" class=\"dataframe\">\n",
       "  <thead>\n",
       "    <tr style=\"text-align: right;\">\n",
       "      <th></th>\n",
       "      <th>Date</th>\n",
       "      <th>Unleaded Gas Cost</th>\n",
       "      <th>Diesel Cost</th>\n",
       "      <th>Midgrade Gas Cost</th>\n",
       "      <th>Premium Gas Cost</th>\n",
       "    </tr>\n",
       "  </thead>\n",
       "  <tbody>\n",
       "    <tr>\n",
       "      <th>396</th>\n",
       "      <td>2020-01-01</td>\n",
       "      <td>1.6978</td>\n",
       "      <td>1.557996</td>\n",
       "      <td>1.770276</td>\n",
       "      <td>1.901883</td>\n",
       "    </tr>\n",
       "    <tr>\n",
       "      <th>397</th>\n",
       "      <td>2020-01-02</td>\n",
       "      <td>1.7042</td>\n",
       "      <td>1.528669</td>\n",
       "      <td>1.814170</td>\n",
       "      <td>1.883521</td>\n",
       "    </tr>\n",
       "    <tr>\n",
       "      <th>398</th>\n",
       "      <td>2020-01-03</td>\n",
       "      <td>1.7488</td>\n",
       "      <td>1.611508</td>\n",
       "      <td>1.832641</td>\n",
       "      <td>1.956631</td>\n",
       "    </tr>\n",
       "    <tr>\n",
       "      <th>399</th>\n",
       "      <td>2020-01-04</td>\n",
       "      <td>1.7488</td>\n",
       "      <td>1.581901</td>\n",
       "      <td>1.870630</td>\n",
       "      <td>1.923608</td>\n",
       "    </tr>\n",
       "    <tr>\n",
       "      <th>400</th>\n",
       "      <td>2020-01-05</td>\n",
       "      <td>1.7488</td>\n",
       "      <td>1.628441</td>\n",
       "      <td>1.828292</td>\n",
       "      <td>1.931305</td>\n",
       "    </tr>\n",
       "  </tbody>\n",
       "</table>\n",
       "</div>"
      ],
      "text/plain": [
       "          Date  Unleaded Gas Cost  Diesel Cost  Midgrade Gas Cost  \\\n",
       "396 2020-01-01             1.6978     1.557996           1.770276   \n",
       "397 2020-01-02             1.7042     1.528669           1.814170   \n",
       "398 2020-01-03             1.7488     1.611508           1.832641   \n",
       "399 2020-01-04             1.7488     1.581901           1.870630   \n",
       "400 2020-01-05             1.7488     1.628441           1.828292   \n",
       "\n",
       "     Premium Gas Cost  \n",
       "396          1.901883  \n",
       "397          1.883521  \n",
       "398          1.956631  \n",
       "399          1.923608  \n",
       "400          1.931305  "
      ]
     },
     "execution_count": 25,
     "metadata": {},
     "output_type": "execute_result"
    }
   ],
   "source": [
    "sreplace20 = sreplace[(sreplace['Date'].dt.year == 2020)]\n",
    "sreplace20.head()"
   ]
  },
  {
   "cell_type": "code",
   "execution_count": 69,
   "metadata": {},
   "outputs": [
    {
     "data": {
      "text/html": [
       "<div>\n",
       "<style scoped>\n",
       "    .dataframe tbody tr th:only-of-type {\n",
       "        vertical-align: middle;\n",
       "    }\n",
       "\n",
       "    .dataframe tbody tr th {\n",
       "        vertical-align: top;\n",
       "    }\n",
       "\n",
       "    .dataframe thead th {\n",
       "        text-align: right;\n",
       "    }\n",
       "</style>\n",
       "<table border=\"1\" class=\"dataframe\">\n",
       "  <thead>\n",
       "    <tr style=\"text-align: right;\">\n",
       "      <th></th>\n",
       "      <th>Date</th>\n",
       "      <th>Unleaded Gas Cost</th>\n",
       "      <th>Diesel Cost</th>\n",
       "      <th>Midgrade Gas Cost</th>\n",
       "      <th>Premium Gas Cost</th>\n",
       "    </tr>\n",
       "  </thead>\n",
       "  <tbody>\n",
       "    <tr>\n",
       "      <th>31</th>\n",
       "      <td>2019-01-01</td>\n",
       "      <td>1.3237</td>\n",
       "      <td>1.176109</td>\n",
       "      <td>1.409889</td>\n",
       "      <td>1.534257</td>\n",
       "    </tr>\n",
       "    <tr>\n",
       "      <th>32</th>\n",
       "      <td>2019-01-02</td>\n",
       "      <td>1.3256</td>\n",
       "      <td>1.201517</td>\n",
       "      <td>1.434353</td>\n",
       "      <td>1.535803</td>\n",
       "    </tr>\n",
       "    <tr>\n",
       "      <th>33</th>\n",
       "      <td>2019-01-03</td>\n",
       "      <td>1.3495</td>\n",
       "      <td>1.225239</td>\n",
       "      <td>1.454955</td>\n",
       "      <td>1.553484</td>\n",
       "    </tr>\n",
       "    <tr>\n",
       "      <th>34</th>\n",
       "      <td>2019-01-04</td>\n",
       "      <td>1.3478</td>\n",
       "      <td>1.170962</td>\n",
       "      <td>1.453069</td>\n",
       "      <td>1.552687</td>\n",
       "    </tr>\n",
       "    <tr>\n",
       "      <th>35</th>\n",
       "      <td>2019-01-05</td>\n",
       "      <td>1.3478</td>\n",
       "      <td>1.212443</td>\n",
       "      <td>1.462783</td>\n",
       "      <td>1.551202</td>\n",
       "    </tr>\n",
       "  </tbody>\n",
       "</table>\n",
       "</div>"
      ],
      "text/plain": [
       "         Date  Unleaded Gas Cost  Diesel Cost  Midgrade Gas Cost  \\\n",
       "31 2019-01-01             1.3237     1.176109           1.409889   \n",
       "32 2019-01-02             1.3256     1.201517           1.434353   \n",
       "33 2019-01-03             1.3495     1.225239           1.454955   \n",
       "34 2019-01-04             1.3478     1.170962           1.453069   \n",
       "35 2019-01-05             1.3478     1.212443           1.462783   \n",
       "\n",
       "    Premium Gas Cost  \n",
       "31          1.534257  \n",
       "32          1.535803  \n",
       "33          1.553484  \n",
       "34          1.552687  \n",
       "35          1.551202  "
      ]
     },
     "execution_count": 69,
     "metadata": {},
     "output_type": "execute_result"
    }
   ],
   "source": [
    "sreplaceADJ = pd.concat([sreplace19, sreplace20])\n",
    "sreplaceADJ.head()"
   ]
  },
  {
   "cell_type": "code",
   "execution_count": 71,
   "metadata": {},
   "outputs": [],
   "source": [
    "sreplaceADJ.to_csv('data/site_replacement_cost_ADJ.csv', index=False)"
   ]
  },
  {
   "cell_type": "code",
   "execution_count": 81,
   "metadata": {},
   "outputs": [
    {
     "name": "stdout",
     "output_type": "stream",
     "text": [
      "<class 'pandas.core.frame.DataFrame'>\n",
      "RangeIndex: 6579 entries, 0 to 6578\n",
      "Data columns (total 4 columns):\n",
      " #   Column             Non-Null Count  Dtype         \n",
      "---  ------             --------------  -----         \n",
      " 0   Site_ID            6579 non-null   int64         \n",
      " 1   Grade_Description  6579 non-null   object        \n",
      " 2   Date               6579 non-null   datetime64[ns]\n",
      " 3   Price              6579 non-null   float64       \n",
      "dtypes: datetime64[ns](1), float64(1), int64(1), object(1)\n",
      "memory usage: 205.7+ KB\n"
     ]
    }
   ],
   "source": [
    "sprices = pd.read_excel('data/site_prices.xlsx')\n",
    "sprices.info()"
   ]
  },
  {
   "cell_type": "code",
   "execution_count": 83,
   "metadata": {},
   "outputs": [],
   "source": [
    "sprices.to_csv('data/site_prices_ADJ.csv', index=False)"
   ]
  },
  {
   "cell_type": "code",
   "execution_count": null,
   "metadata": {},
   "outputs": [],
   "source": []
  }
 ],
 "metadata": {
  "kernelspec": {
   "display_name": "Python 3",
   "language": "python",
   "name": "python3"
  },
  "language_info": {
   "codemirror_mode": {
    "name": "ipython",
    "version": 3
   },
   "file_extension": ".py",
   "mimetype": "text/x-python",
   "name": "python",
   "nbconvert_exporter": "python",
   "pygments_lexer": "ipython3",
   "version": "3.7.6"
  }
 },
 "nbformat": 4,
 "nbformat_minor": 4
}
