{
 "cells": [
  {
   "cell_type": "code",
   "execution_count": 13,
   "metadata": {},
   "outputs": [],
   "source": [
    "import pandas as pd\n",
    "import numpy as np"
   ]
  },
  {
   "cell_type": "markdown",
   "metadata": {},
   "source": [
    "### Joining data together into site_kpis file."
   ]
  },
  {
   "cell_type": "code",
   "execution_count": 47,
   "metadata": {},
   "outputs": [
    {
     "data": {
      "text/html": [
       "<div>\n",
       "<style scoped>\n",
       "    .dataframe tbody tr th:only-of-type {\n",
       "        vertical-align: middle;\n",
       "    }\n",
       "\n",
       "    .dataframe tbody tr th {\n",
       "        vertical-align: top;\n",
       "    }\n",
       "\n",
       "    .dataframe thead th {\n",
       "        text-align: right;\n",
       "    }\n",
       "</style>\n",
       "<table border=\"1\" class=\"dataframe\">\n",
       "  <thead>\n",
       "    <tr style=\"text-align: right;\">\n",
       "      <th></th>\n",
       "      <th>Site_ID</th>\n",
       "      <th>Grade_Description</th>\n",
       "      <th>Date</th>\n",
       "      <th>Price</th>\n",
       "    </tr>\n",
       "  </thead>\n",
       "  <tbody>\n",
       "    <tr>\n",
       "      <th>0</th>\n",
       "      <td>10808</td>\n",
       "      <td>Unleaded Gas</td>\n",
       "      <td>2019-01-01</td>\n",
       "      <td>1.769</td>\n",
       "    </tr>\n",
       "    <tr>\n",
       "      <th>1</th>\n",
       "      <td>10808</td>\n",
       "      <td>Unleaded Gas</td>\n",
       "      <td>2019-01-02</td>\n",
       "      <td>1.759</td>\n",
       "    </tr>\n",
       "    <tr>\n",
       "      <th>2</th>\n",
       "      <td>10808</td>\n",
       "      <td>Unleaded Gas</td>\n",
       "      <td>2019-01-03</td>\n",
       "      <td>1.749</td>\n",
       "    </tr>\n",
       "    <tr>\n",
       "      <th>3</th>\n",
       "      <td>10808</td>\n",
       "      <td>Unleaded Gas</td>\n",
       "      <td>2019-01-04</td>\n",
       "      <td>1.749</td>\n",
       "    </tr>\n",
       "    <tr>\n",
       "      <th>4</th>\n",
       "      <td>10808</td>\n",
       "      <td>Unleaded Gas</td>\n",
       "      <td>2019-01-05</td>\n",
       "      <td>1.749</td>\n",
       "    </tr>\n",
       "  </tbody>\n",
       "</table>\n",
       "</div>"
      ],
      "text/plain": [
       "   Site_ID Grade_Description        Date  Price\n",
       "0    10808      Unleaded Gas  2019-01-01  1.769\n",
       "1    10808      Unleaded Gas  2019-01-02  1.759\n",
       "2    10808      Unleaded Gas  2019-01-03  1.749\n",
       "3    10808      Unleaded Gas  2019-01-04  1.749\n",
       "4    10808      Unleaded Gas  2019-01-05  1.749"
      ]
     },
     "execution_count": 47,
     "metadata": {},
     "output_type": "execute_result"
    }
   ],
   "source": [
    "spricesADJ = pd.read_csv('data/site_prices_ADJ.csv')\n",
    "spricesADJ.head()"
   ]
  },
  {
   "cell_type": "code",
   "execution_count": 48,
   "metadata": {},
   "outputs": [],
   "source": [
    "# sreplaceADJ = pd.read_csv('data/site_replacement_cost_ADJ.csv')\n",
    "# sreplaceADJ.head()"
   ]
  },
  {
   "cell_type": "code",
   "execution_count": 49,
   "metadata": {},
   "outputs": [],
   "source": [
    "# df1 = pd.merge(spricesADJ, sreplaceADJ)\n",
    "# df1.head()"
   ]
  },
  {
   "cell_type": "code",
   "execution_count": 50,
   "metadata": {},
   "outputs": [],
   "source": [
    "# df1.to_csv('data/mergeGas.csv', index=False)"
   ]
  },
  {
   "cell_type": "code",
   "execution_count": 51,
   "metadata": {},
   "outputs": [],
   "source": [
    "# df2 = pd.read_csv('data/mergeGasFNL.csv')\n",
    "# df2.head()"
   ]
  },
  {
   "cell_type": "code",
   "execution_count": 52,
   "metadata": {},
   "outputs": [],
   "source": [
    "# df2['Date'] = pd.to_datetime(df2['Date']).dt.strftime('%Y-%m-%d')\n",
    "# df2.head()"
   ]
  },
  {
   "cell_type": "code",
   "execution_count": 53,
   "metadata": {},
   "outputs": [
    {
     "data": {
      "text/html": [
       "<div>\n",
       "<style scoped>\n",
       "    .dataframe tbody tr th:only-of-type {\n",
       "        vertical-align: middle;\n",
       "    }\n",
       "\n",
       "    .dataframe tbody tr th {\n",
       "        vertical-align: top;\n",
       "    }\n",
       "\n",
       "    .dataframe thead th {\n",
       "        text-align: right;\n",
       "    }\n",
       "</style>\n",
       "<table border=\"1\" class=\"dataframe\">\n",
       "  <thead>\n",
       "    <tr style=\"text-align: right;\">\n",
       "      <th></th>\n",
       "      <th>Site_ID</th>\n",
       "      <th>Grade_Description</th>\n",
       "      <th>Date</th>\n",
       "      <th>Profit</th>\n",
       "    </tr>\n",
       "  </thead>\n",
       "  <tbody>\n",
       "    <tr>\n",
       "      <th>0</th>\n",
       "      <td>10808</td>\n",
       "      <td>Unleaded Gas</td>\n",
       "      <td>2019-01-01</td>\n",
       "      <td>9.73</td>\n",
       "    </tr>\n",
       "    <tr>\n",
       "      <th>1</th>\n",
       "      <td>10808</td>\n",
       "      <td>Unleaded Gas</td>\n",
       "      <td>2019-01-02</td>\n",
       "      <td>11.13</td>\n",
       "    </tr>\n",
       "    <tr>\n",
       "      <th>2</th>\n",
       "      <td>10808</td>\n",
       "      <td>Unleaded Gas</td>\n",
       "      <td>2019-01-03</td>\n",
       "      <td>-35.83</td>\n",
       "    </tr>\n",
       "    <tr>\n",
       "      <th>3</th>\n",
       "      <td>10808</td>\n",
       "      <td>Unleaded Gas</td>\n",
       "      <td>2019-01-04</td>\n",
       "      <td>-65.66</td>\n",
       "    </tr>\n",
       "    <tr>\n",
       "      <th>4</th>\n",
       "      <td>10808</td>\n",
       "      <td>Unleaded Gas</td>\n",
       "      <td>2019-01-05</td>\n",
       "      <td>-98.64</td>\n",
       "    </tr>\n",
       "  </tbody>\n",
       "</table>\n",
       "</div>"
      ],
      "text/plain": [
       "   Site_ID Grade_Description        Date  Profit\n",
       "0    10808      Unleaded Gas  2019-01-01    9.73\n",
       "1    10808      Unleaded Gas  2019-01-02   11.13\n",
       "2    10808      Unleaded Gas  2019-01-03  -35.83\n",
       "3    10808      Unleaded Gas  2019-01-04  -65.66\n",
       "4    10808      Unleaded Gas  2019-01-05  -98.64"
      ]
     },
     "execution_count": 53,
     "metadata": {},
     "output_type": "execute_result"
    }
   ],
   "source": [
    "sprofitADJ = pd.read_csv('data/site_profit_ADJ.csv')\n",
    "sprofitADJ.head()"
   ]
  },
  {
   "cell_type": "code",
   "execution_count": 54,
   "metadata": {},
   "outputs": [
    {
     "data": {
      "text/html": [
       "<div>\n",
       "<style scoped>\n",
       "    .dataframe tbody tr th:only-of-type {\n",
       "        vertical-align: middle;\n",
       "    }\n",
       "\n",
       "    .dataframe tbody tr th {\n",
       "        vertical-align: top;\n",
       "    }\n",
       "\n",
       "    .dataframe thead th {\n",
       "        text-align: right;\n",
       "    }\n",
       "</style>\n",
       "<table border=\"1\" class=\"dataframe\">\n",
       "  <thead>\n",
       "    <tr style=\"text-align: right;\">\n",
       "      <th></th>\n",
       "      <th>Site_ID</th>\n",
       "      <th>Grade_Description</th>\n",
       "      <th>Date</th>\n",
       "      <th>Price</th>\n",
       "      <th>Profit</th>\n",
       "    </tr>\n",
       "  </thead>\n",
       "  <tbody>\n",
       "    <tr>\n",
       "      <th>0</th>\n",
       "      <td>10808</td>\n",
       "      <td>Unleaded Gas</td>\n",
       "      <td>2019-01-01</td>\n",
       "      <td>1.769</td>\n",
       "      <td>9.73</td>\n",
       "    </tr>\n",
       "    <tr>\n",
       "      <th>1</th>\n",
       "      <td>10808</td>\n",
       "      <td>Unleaded Gas</td>\n",
       "      <td>2019-01-02</td>\n",
       "      <td>1.759</td>\n",
       "      <td>11.13</td>\n",
       "    </tr>\n",
       "    <tr>\n",
       "      <th>2</th>\n",
       "      <td>10808</td>\n",
       "      <td>Unleaded Gas</td>\n",
       "      <td>2019-01-03</td>\n",
       "      <td>1.749</td>\n",
       "      <td>-35.83</td>\n",
       "    </tr>\n",
       "    <tr>\n",
       "      <th>3</th>\n",
       "      <td>10808</td>\n",
       "      <td>Unleaded Gas</td>\n",
       "      <td>2019-01-04</td>\n",
       "      <td>1.749</td>\n",
       "      <td>-65.66</td>\n",
       "    </tr>\n",
       "    <tr>\n",
       "      <th>4</th>\n",
       "      <td>10808</td>\n",
       "      <td>Unleaded Gas</td>\n",
       "      <td>2019-01-05</td>\n",
       "      <td>1.749</td>\n",
       "      <td>-98.64</td>\n",
       "    </tr>\n",
       "  </tbody>\n",
       "</table>\n",
       "</div>"
      ],
      "text/plain": [
       "   Site_ID Grade_Description        Date  Price  Profit\n",
       "0    10808      Unleaded Gas  2019-01-01  1.769    9.73\n",
       "1    10808      Unleaded Gas  2019-01-02  1.759   11.13\n",
       "2    10808      Unleaded Gas  2019-01-03  1.749  -35.83\n",
       "3    10808      Unleaded Gas  2019-01-04  1.749  -65.66\n",
       "4    10808      Unleaded Gas  2019-01-05  1.749  -98.64"
      ]
     },
     "execution_count": 54,
     "metadata": {},
     "output_type": "execute_result"
    }
   ],
   "source": [
    "df1 = pd.merge(spricesADJ, sprofitADJ)\n",
    "df1.head()"
   ]
  },
  {
   "cell_type": "code",
   "execution_count": 55,
   "metadata": {},
   "outputs": [
    {
     "data": {
      "text/html": [
       "<div>\n",
       "<style scoped>\n",
       "    .dataframe tbody tr th:only-of-type {\n",
       "        vertical-align: middle;\n",
       "    }\n",
       "\n",
       "    .dataframe tbody tr th {\n",
       "        vertical-align: top;\n",
       "    }\n",
       "\n",
       "    .dataframe thead th {\n",
       "        text-align: right;\n",
       "    }\n",
       "</style>\n",
       "<table border=\"1\" class=\"dataframe\">\n",
       "  <thead>\n",
       "    <tr style=\"text-align: right;\">\n",
       "      <th></th>\n",
       "      <th>Site_ID</th>\n",
       "      <th>Grade_Description</th>\n",
       "      <th>Date</th>\n",
       "      <th>Volume</th>\n",
       "    </tr>\n",
       "  </thead>\n",
       "  <tbody>\n",
       "    <tr>\n",
       "      <th>0</th>\n",
       "      <td>10808</td>\n",
       "      <td>Unleaded Gas</td>\n",
       "      <td>2019-01-01</td>\n",
       "      <td>1092.01</td>\n",
       "    </tr>\n",
       "    <tr>\n",
       "      <th>1</th>\n",
       "      <td>10808</td>\n",
       "      <td>Unleaded Gas</td>\n",
       "      <td>2019-01-02</td>\n",
       "      <td>1955.47</td>\n",
       "    </tr>\n",
       "    <tr>\n",
       "      <th>2</th>\n",
       "      <td>10808</td>\n",
       "      <td>Unleaded Gas</td>\n",
       "      <td>2019-01-03</td>\n",
       "      <td>1123.79</td>\n",
       "    </tr>\n",
       "    <tr>\n",
       "      <th>3</th>\n",
       "      <td>10808</td>\n",
       "      <td>Unleaded Gas</td>\n",
       "      <td>2019-01-04</td>\n",
       "      <td>1847.51</td>\n",
       "    </tr>\n",
       "    <tr>\n",
       "      <th>4</th>\n",
       "      <td>10808</td>\n",
       "      <td>Unleaded Gas</td>\n",
       "      <td>2019-01-05</td>\n",
       "      <td>1442.89</td>\n",
       "    </tr>\n",
       "  </tbody>\n",
       "</table>\n",
       "</div>"
      ],
      "text/plain": [
       "   Site_ID Grade_Description        Date   Volume\n",
       "0    10808      Unleaded Gas  2019-01-01  1092.01\n",
       "1    10808      Unleaded Gas  2019-01-02  1955.47\n",
       "2    10808      Unleaded Gas  2019-01-03  1123.79\n",
       "3    10808      Unleaded Gas  2019-01-04  1847.51\n",
       "4    10808      Unleaded Gas  2019-01-05  1442.89"
      ]
     },
     "execution_count": 55,
     "metadata": {},
     "output_type": "execute_result"
    }
   ],
   "source": [
    "svolADJ = pd.read_csv('data/site_volume_ADJ.csv')\n",
    "svolADJ.head()"
   ]
  },
  {
   "cell_type": "code",
   "execution_count": 56,
   "metadata": {},
   "outputs": [
    {
     "data": {
      "text/html": [
       "<div>\n",
       "<style scoped>\n",
       "    .dataframe tbody tr th:only-of-type {\n",
       "        vertical-align: middle;\n",
       "    }\n",
       "\n",
       "    .dataframe tbody tr th {\n",
       "        vertical-align: top;\n",
       "    }\n",
       "\n",
       "    .dataframe thead th {\n",
       "        text-align: right;\n",
       "    }\n",
       "</style>\n",
       "<table border=\"1\" class=\"dataframe\">\n",
       "  <thead>\n",
       "    <tr style=\"text-align: right;\">\n",
       "      <th></th>\n",
       "      <th>Site_ID</th>\n",
       "      <th>Grade_Description</th>\n",
       "      <th>Date</th>\n",
       "      <th>Price</th>\n",
       "      <th>Profit</th>\n",
       "      <th>Volume</th>\n",
       "    </tr>\n",
       "  </thead>\n",
       "  <tbody>\n",
       "    <tr>\n",
       "      <th>0</th>\n",
       "      <td>10808</td>\n",
       "      <td>Unleaded Gas</td>\n",
       "      <td>2019-01-01</td>\n",
       "      <td>1.769</td>\n",
       "      <td>9.73</td>\n",
       "      <td>1092.01</td>\n",
       "    </tr>\n",
       "    <tr>\n",
       "      <th>1</th>\n",
       "      <td>10808</td>\n",
       "      <td>Unleaded Gas</td>\n",
       "      <td>2019-01-02</td>\n",
       "      <td>1.759</td>\n",
       "      <td>11.13</td>\n",
       "      <td>1955.47</td>\n",
       "    </tr>\n",
       "    <tr>\n",
       "      <th>2</th>\n",
       "      <td>10808</td>\n",
       "      <td>Unleaded Gas</td>\n",
       "      <td>2019-01-03</td>\n",
       "      <td>1.749</td>\n",
       "      <td>-35.83</td>\n",
       "      <td>1123.79</td>\n",
       "    </tr>\n",
       "    <tr>\n",
       "      <th>3</th>\n",
       "      <td>10808</td>\n",
       "      <td>Unleaded Gas</td>\n",
       "      <td>2019-01-04</td>\n",
       "      <td>1.749</td>\n",
       "      <td>-65.66</td>\n",
       "      <td>1847.51</td>\n",
       "    </tr>\n",
       "    <tr>\n",
       "      <th>4</th>\n",
       "      <td>10808</td>\n",
       "      <td>Unleaded Gas</td>\n",
       "      <td>2019-01-05</td>\n",
       "      <td>1.749</td>\n",
       "      <td>-98.64</td>\n",
       "      <td>1442.89</td>\n",
       "    </tr>\n",
       "  </tbody>\n",
       "</table>\n",
       "</div>"
      ],
      "text/plain": [
       "   Site_ID Grade_Description        Date  Price  Profit   Volume\n",
       "0    10808      Unleaded Gas  2019-01-01  1.769    9.73  1092.01\n",
       "1    10808      Unleaded Gas  2019-01-02  1.759   11.13  1955.47\n",
       "2    10808      Unleaded Gas  2019-01-03  1.749  -35.83  1123.79\n",
       "3    10808      Unleaded Gas  2019-01-04  1.749  -65.66  1847.51\n",
       "4    10808      Unleaded Gas  2019-01-05  1.749  -98.64  1442.89"
      ]
     },
     "execution_count": 56,
     "metadata": {},
     "output_type": "execute_result"
    }
   ],
   "source": [
    "df2 = pd.merge(df1, svolADJ)\n",
    "df2.head()"
   ]
  },
  {
   "cell_type": "code",
   "execution_count": 67,
   "metadata": {},
   "outputs": [],
   "source": [
    "# print(df2.head())\n",
    "# print(df2.tail())"
   ]
  },
  {
   "cell_type": "code",
   "execution_count": 68,
   "metadata": {},
   "outputs": [],
   "source": [
    "# print(df2.Site_ID.unique())\n",
    "# print(df2.Grade_Description.unique())"
   ]
  },
  {
   "cell_type": "code",
   "execution_count": null,
   "metadata": {},
   "outputs": [],
   "source": [
    "# Add replacement cost column to df\n",
    "# Using most recent prices as instructed.\n",
    "# Unleaded 2.0223\n",
    "# Midgrade 2.140848\n",
    "# Premium 2.249888"
   ]
  },
  {
   "cell_type": "code",
   "execution_count": 77,
   "metadata": {},
   "outputs": [],
   "source": [
    "# Create new column and insert replacement costs\n",
    "df2['Replacement_cost'] = np.select([df2.Grade_Description=='Unleaded Gas', df2.Grade_Description=='Midgrade Gas'],\n",
    "                                  ['2.0223', '2.140848'], default='2.249888')"
   ]
  },
  {
   "cell_type": "code",
   "execution_count": 78,
   "metadata": {},
   "outputs": [
    {
     "data": {
      "text/html": [
       "<div>\n",
       "<style scoped>\n",
       "    .dataframe tbody tr th:only-of-type {\n",
       "        vertical-align: middle;\n",
       "    }\n",
       "\n",
       "    .dataframe tbody tr th {\n",
       "        vertical-align: top;\n",
       "    }\n",
       "\n",
       "    .dataframe thead th {\n",
       "        text-align: right;\n",
       "    }\n",
       "</style>\n",
       "<table border=\"1\" class=\"dataframe\">\n",
       "  <thead>\n",
       "    <tr style=\"text-align: right;\">\n",
       "      <th></th>\n",
       "      <th>Site_ID</th>\n",
       "      <th>Grade_Description</th>\n",
       "      <th>Date</th>\n",
       "      <th>Price</th>\n",
       "      <th>Profit</th>\n",
       "      <th>Volume</th>\n",
       "      <th>Replacement_cost</th>\n",
       "    </tr>\n",
       "  </thead>\n",
       "  <tbody>\n",
       "    <tr>\n",
       "      <th>0</th>\n",
       "      <td>10808</td>\n",
       "      <td>Unleaded Gas</td>\n",
       "      <td>2019-01-01</td>\n",
       "      <td>1.769</td>\n",
       "      <td>9.73</td>\n",
       "      <td>1092.01</td>\n",
       "      <td>2.0223</td>\n",
       "    </tr>\n",
       "    <tr>\n",
       "      <th>1</th>\n",
       "      <td>10808</td>\n",
       "      <td>Unleaded Gas</td>\n",
       "      <td>2019-01-02</td>\n",
       "      <td>1.759</td>\n",
       "      <td>11.13</td>\n",
       "      <td>1955.47</td>\n",
       "      <td>2.0223</td>\n",
       "    </tr>\n",
       "    <tr>\n",
       "      <th>2</th>\n",
       "      <td>10808</td>\n",
       "      <td>Unleaded Gas</td>\n",
       "      <td>2019-01-03</td>\n",
       "      <td>1.749</td>\n",
       "      <td>-35.83</td>\n",
       "      <td>1123.79</td>\n",
       "      <td>2.0223</td>\n",
       "    </tr>\n",
       "    <tr>\n",
       "      <th>3</th>\n",
       "      <td>10808</td>\n",
       "      <td>Unleaded Gas</td>\n",
       "      <td>2019-01-04</td>\n",
       "      <td>1.749</td>\n",
       "      <td>-65.66</td>\n",
       "      <td>1847.51</td>\n",
       "      <td>2.0223</td>\n",
       "    </tr>\n",
       "    <tr>\n",
       "      <th>4</th>\n",
       "      <td>10808</td>\n",
       "      <td>Unleaded Gas</td>\n",
       "      <td>2019-01-05</td>\n",
       "      <td>1.749</td>\n",
       "      <td>-98.64</td>\n",
       "      <td>1442.89</td>\n",
       "      <td>2.0223</td>\n",
       "    </tr>\n",
       "  </tbody>\n",
       "</table>\n",
       "</div>"
      ],
      "text/plain": [
       "   Site_ID Grade_Description        Date  Price  Profit   Volume  \\\n",
       "0    10808      Unleaded Gas  2019-01-01  1.769    9.73  1092.01   \n",
       "1    10808      Unleaded Gas  2019-01-02  1.759   11.13  1955.47   \n",
       "2    10808      Unleaded Gas  2019-01-03  1.749  -35.83  1123.79   \n",
       "3    10808      Unleaded Gas  2019-01-04  1.749  -65.66  1847.51   \n",
       "4    10808      Unleaded Gas  2019-01-05  1.749  -98.64  1442.89   \n",
       "\n",
       "  Replacement_cost  \n",
       "0           2.0223  \n",
       "1           2.0223  \n",
       "2           2.0223  \n",
       "3           2.0223  \n",
       "4           2.0223  "
      ]
     },
     "execution_count": 78,
     "metadata": {},
     "output_type": "execute_result"
    }
   ],
   "source": [
    "df2.head()"
   ]
  },
  {
   "cell_type": "code",
   "execution_count": 57,
   "metadata": {},
   "outputs": [],
   "source": [
    "# cpricesADJ = pd.read_csv('data/competitor_prices_ADJ.csv')\n",
    "# cpricesADJ.head()"
   ]
  },
  {
   "cell_type": "code",
   "execution_count": 58,
   "metadata": {},
   "outputs": [],
   "source": [
    "# site_kpis = pd.merge(df4, cpricesADJ)\n",
    "# site_kpis.head()"
   ]
  },
  {
   "cell_type": "code",
   "execution_count": 59,
   "metadata": {},
   "outputs": [],
   "source": [
    "# site_kpis.to_csv('data/site_kpis.csv', index=False)"
   ]
  },
  {
   "cell_type": "code",
   "execution_count": 60,
   "metadata": {},
   "outputs": [],
   "source": [
    "# site_kpis.head()"
   ]
  },
  {
   "cell_type": "code",
   "execution_count": 61,
   "metadata": {},
   "outputs": [],
   "source": [
    "# site_kpis.info()"
   ]
  },
  {
   "cell_type": "code",
   "execution_count": null,
   "metadata": {},
   "outputs": [],
   "source": []
  }
 ],
 "metadata": {
  "kernelspec": {
   "display_name": "Python 3",
   "language": "python",
   "name": "python3"
  },
  "language_info": {
   "codemirror_mode": {
    "name": "ipython",
    "version": 3
   },
   "file_extension": ".py",
   "mimetype": "text/x-python",
   "name": "python",
   "nbconvert_exporter": "python",
   "pygments_lexer": "ipython3",
   "version": "3.7.6"
  }
 },
 "nbformat": 4,
 "nbformat_minor": 4
}
