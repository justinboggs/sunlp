{
 "cells": [
  {
   "cell_type": "code",
   "execution_count": 2,
   "metadata": {},
   "outputs": [],
   "source": [
    "import pandas as pd"
   ]
  },
  {
   "cell_type": "code",
   "execution_count": 3,
   "metadata": {},
   "outputs": [
    {
     "name": "stdout",
     "output_type": "stream",
     "text": [
      "<class 'pandas.core.frame.DataFrame'>\n",
      "RangeIndex: 37062 entries, 0 to 37061\n",
      "Data columns (total 5 columns):\n",
      " #   Column             Non-Null Count  Dtype         \n",
      "---  ------             --------------  -----         \n",
      " 0   Site_ID            37062 non-null  int64         \n",
      " 1   Competitor_ID      37062 non-null  int64         \n",
      " 2   Grade_Description  37062 non-null  object        \n",
      " 3   Date               37062 non-null  datetime64[ns]\n",
      " 4   Competitor_Price   29573 non-null  float64       \n",
      "dtypes: datetime64[ns](1), float64(1), int64(2), object(1)\n",
      "memory usage: 1.4+ MB\n"
     ]
    }
   ],
   "source": [
    "cprices = pd.read_excel('data/competitor_prices.xlsx')\n",
    "cprices.info()"
   ]
  },
  {
   "cell_type": "markdown",
   "metadata": {},
   "source": [
    "**Missing competitor prices, missing matching days, many unneeded days"
   ]
  },
  {
   "cell_type": "code",
   "execution_count": 4,
   "metadata": {},
   "outputs": [
    {
     "name": "stdout",
     "output_type": "stream",
     "text": [
      "<class 'pandas.core.frame.DataFrame'>\n",
      "RangeIndex: 6579 entries, 0 to 6578\n",
      "Data columns (total 4 columns):\n",
      " #   Column             Non-Null Count  Dtype         \n",
      "---  ------             --------------  -----         \n",
      " 0   Site_ID            6579 non-null   int64         \n",
      " 1   Grade_Description  6579 non-null   object        \n",
      " 2   Date               6579 non-null   datetime64[ns]\n",
      " 3   Price              6579 non-null   float64       \n",
      "dtypes: datetime64[ns](1), float64(1), int64(1), object(1)\n",
      "memory usage: 205.7+ KB\n"
     ]
    }
   ],
   "source": [
    "sprices = pd.read_excel('data/site_prices.xlsx')\n",
    "sprices.info()"
   ]
  },
  {
   "cell_type": "code",
   "execution_count": 5,
   "metadata": {},
   "outputs": [
    {
     "name": "stdout",
     "output_type": "stream",
     "text": [
      "<class 'pandas.core.frame.DataFrame'>\n",
      "RangeIndex: 6579 entries, 0 to 6578\n",
      "Data columns (total 4 columns):\n",
      " #   Column             Non-Null Count  Dtype         \n",
      "---  ------             --------------  -----         \n",
      " 0   Site_ID            6579 non-null   int64         \n",
      " 1   Grade_Description  6579 non-null   object        \n",
      " 2   Date               6579 non-null   datetime64[ns]\n",
      " 3   Profit             5914 non-null   float64       \n",
      "dtypes: datetime64[ns](1), float64(1), int64(1), object(1)\n",
      "memory usage: 205.7+ KB\n"
     ]
    }
   ],
   "source": [
    "sprofit = pd.read_excel('data/site_profit.xlsx')\n",
    "sprofit.info()"
   ]
  },
  {
   "cell_type": "markdown",
   "metadata": {},
   "source": [
    "**Missing profits"
   ]
  },
  {
   "cell_type": "code",
   "execution_count": 6,
   "metadata": {},
   "outputs": [
    {
     "name": "stdout",
     "output_type": "stream",
     "text": [
      "<class 'pandas.core.frame.DataFrame'>\n",
      "RangeIndex: 853 entries, 0 to 852\n",
      "Data columns (total 5 columns):\n",
      " #   Column             Non-Null Count  Dtype         \n",
      "---  ------             --------------  -----         \n",
      " 0   Date               853 non-null    datetime64[ns]\n",
      " 1   Unleaded Gas Cost  853 non-null    float64       \n",
      " 2   Diesel Cost        853 non-null    float64       \n",
      " 3   Midgrade Gas Cost  853 non-null    float64       \n",
      " 4   Premium Gas Cost   853 non-null    float64       \n",
      "dtypes: datetime64[ns](1), float64(4)\n",
      "memory usage: 33.4 KB\n"
     ]
    }
   ],
   "source": [
    "sreplace = pd.read_excel('data/site_replacement_cost.xlsx')\n",
    "sreplace.info()"
   ]
  },
  {
   "cell_type": "code",
   "execution_count": 7,
   "metadata": {},
   "outputs": [
    {
     "name": "stdout",
     "output_type": "stream",
     "text": [
      "<class 'pandas.core.frame.DataFrame'>\n",
      "RangeIndex: 6579 entries, 0 to 6578\n",
      "Data columns (total 4 columns):\n",
      " #   Column             Non-Null Count  Dtype         \n",
      "---  ------             --------------  -----         \n",
      " 0   Site_ID            6579 non-null   int64         \n",
      " 1   Grade_Description  6579 non-null   object        \n",
      " 2   Date               6579 non-null   datetime64[ns]\n",
      " 3   Volume             5930 non-null   float64       \n",
      "dtypes: datetime64[ns](1), float64(1), int64(1), object(1)\n",
      "memory usage: 205.7+ KB\n"
     ]
    }
   ],
   "source": [
    "svol = pd.read_excel('data/site_volume.xlsx')\n",
    "svol.info()"
   ]
  },
  {
   "cell_type": "markdown",
   "metadata": {},
   "source": [
    "**Missing vols"
   ]
  },
  {
   "cell_type": "code",
   "execution_count": 10,
   "metadata": {},
   "outputs": [
    {
     "data": {
      "text/html": [
       "<div>\n",
       "<style scoped>\n",
       "    .dataframe tbody tr th:only-of-type {\n",
       "        vertical-align: middle;\n",
       "    }\n",
       "\n",
       "    .dataframe tbody tr th {\n",
       "        vertical-align: top;\n",
       "    }\n",
       "\n",
       "    .dataframe thead th {\n",
       "        text-align: right;\n",
       "    }\n",
       "</style>\n",
       "<table border=\"1\" class=\"dataframe\">\n",
       "  <thead>\n",
       "    <tr style=\"text-align: right;\">\n",
       "      <th></th>\n",
       "      <th>Site_ID</th>\n",
       "      <th>Competitor_ID</th>\n",
       "      <th>Grade_Description</th>\n",
       "      <th>Date</th>\n",
       "      <th>Competitor_Price</th>\n",
       "    </tr>\n",
       "  </thead>\n",
       "  <tbody>\n",
       "    <tr>\n",
       "      <th>0</th>\n",
       "      <td>10808</td>\n",
       "      <td>311365</td>\n",
       "      <td>Diesel</td>\n",
       "      <td>2019-08-27</td>\n",
       "      <td>2.429</td>\n",
       "    </tr>\n",
       "    <tr>\n",
       "      <th>1</th>\n",
       "      <td>10808</td>\n",
       "      <td>311365</td>\n",
       "      <td>Diesel</td>\n",
       "      <td>2019-08-28</td>\n",
       "      <td>2.429</td>\n",
       "    </tr>\n",
       "    <tr>\n",
       "      <th>2</th>\n",
       "      <td>10808</td>\n",
       "      <td>311365</td>\n",
       "      <td>Diesel</td>\n",
       "      <td>2019-08-29</td>\n",
       "      <td>2.429</td>\n",
       "    </tr>\n",
       "    <tr>\n",
       "      <th>3</th>\n",
       "      <td>10808</td>\n",
       "      <td>311365</td>\n",
       "      <td>Diesel</td>\n",
       "      <td>2019-08-30</td>\n",
       "      <td>2.429</td>\n",
       "    </tr>\n",
       "    <tr>\n",
       "      <th>4</th>\n",
       "      <td>10808</td>\n",
       "      <td>311365</td>\n",
       "      <td>Diesel</td>\n",
       "      <td>2019-08-31</td>\n",
       "      <td>2.429</td>\n",
       "    </tr>\n",
       "  </tbody>\n",
       "</table>\n",
       "</div>"
      ],
      "text/plain": [
       "   Site_ID  Competitor_ID Grade_Description       Date  Competitor_Price\n",
       "0    10808         311365            Diesel 2019-08-27             2.429\n",
       "1    10808         311365            Diesel 2019-08-28             2.429\n",
       "2    10808         311365            Diesel 2019-08-29             2.429\n",
       "3    10808         311365            Diesel 2019-08-30             2.429\n",
       "4    10808         311365            Diesel 2019-08-31             2.429"
      ]
     },
     "execution_count": 10,
     "metadata": {},
     "output_type": "execute_result"
    }
   ],
   "source": [
    "cprices.head()"
   ]
  },
  {
   "cell_type": "code",
   "execution_count": 11,
   "metadata": {},
   "outputs": [
    {
     "data": {
      "text/html": [
       "<div>\n",
       "<style scoped>\n",
       "    .dataframe tbody tr th:only-of-type {\n",
       "        vertical-align: middle;\n",
       "    }\n",
       "\n",
       "    .dataframe tbody tr th {\n",
       "        vertical-align: top;\n",
       "    }\n",
       "\n",
       "    .dataframe thead th {\n",
       "        text-align: right;\n",
       "    }\n",
       "</style>\n",
       "<table border=\"1\" class=\"dataframe\">\n",
       "  <thead>\n",
       "    <tr style=\"text-align: right;\">\n",
       "      <th></th>\n",
       "      <th>Site_ID</th>\n",
       "      <th>Grade_Description</th>\n",
       "      <th>Date</th>\n",
       "      <th>Price</th>\n",
       "    </tr>\n",
       "  </thead>\n",
       "  <tbody>\n",
       "    <tr>\n",
       "      <th>0</th>\n",
       "      <td>10808</td>\n",
       "      <td>Unleaded Gas</td>\n",
       "      <td>2019-01-01</td>\n",
       "      <td>1.769</td>\n",
       "    </tr>\n",
       "    <tr>\n",
       "      <th>1</th>\n",
       "      <td>10808</td>\n",
       "      <td>Unleaded Gas</td>\n",
       "      <td>2019-01-02</td>\n",
       "      <td>1.759</td>\n",
       "    </tr>\n",
       "    <tr>\n",
       "      <th>2</th>\n",
       "      <td>10808</td>\n",
       "      <td>Unleaded Gas</td>\n",
       "      <td>2019-01-03</td>\n",
       "      <td>1.749</td>\n",
       "    </tr>\n",
       "    <tr>\n",
       "      <th>3</th>\n",
       "      <td>10808</td>\n",
       "      <td>Unleaded Gas</td>\n",
       "      <td>2019-01-04</td>\n",
       "      <td>1.749</td>\n",
       "    </tr>\n",
       "    <tr>\n",
       "      <th>4</th>\n",
       "      <td>10808</td>\n",
       "      <td>Unleaded Gas</td>\n",
       "      <td>2019-01-05</td>\n",
       "      <td>1.749</td>\n",
       "    </tr>\n",
       "  </tbody>\n",
       "</table>\n",
       "</div>"
      ],
      "text/plain": [
       "   Site_ID Grade_Description       Date  Price\n",
       "0    10808      Unleaded Gas 2019-01-01  1.769\n",
       "1    10808      Unleaded Gas 2019-01-02  1.759\n",
       "2    10808      Unleaded Gas 2019-01-03  1.749\n",
       "3    10808      Unleaded Gas 2019-01-04  1.749\n",
       "4    10808      Unleaded Gas 2019-01-05  1.749"
      ]
     },
     "execution_count": 11,
     "metadata": {},
     "output_type": "execute_result"
    }
   ],
   "source": [
    "sprices.head()"
   ]
  },
  {
   "cell_type": "code",
   "execution_count": 12,
   "metadata": {},
   "outputs": [
    {
     "data": {
      "text/html": [
       "<div>\n",
       "<style scoped>\n",
       "    .dataframe tbody tr th:only-of-type {\n",
       "        vertical-align: middle;\n",
       "    }\n",
       "\n",
       "    .dataframe tbody tr th {\n",
       "        vertical-align: top;\n",
       "    }\n",
       "\n",
       "    .dataframe thead th {\n",
       "        text-align: right;\n",
       "    }\n",
       "</style>\n",
       "<table border=\"1\" class=\"dataframe\">\n",
       "  <thead>\n",
       "    <tr style=\"text-align: right;\">\n",
       "      <th></th>\n",
       "      <th>Site_ID</th>\n",
       "      <th>Grade_Description</th>\n",
       "      <th>Date</th>\n",
       "      <th>Profit</th>\n",
       "    </tr>\n",
       "  </thead>\n",
       "  <tbody>\n",
       "    <tr>\n",
       "      <th>0</th>\n",
       "      <td>10808</td>\n",
       "      <td>Unleaded Gas</td>\n",
       "      <td>2019-01-01</td>\n",
       "      <td>9.73</td>\n",
       "    </tr>\n",
       "    <tr>\n",
       "      <th>1</th>\n",
       "      <td>10808</td>\n",
       "      <td>Unleaded Gas</td>\n",
       "      <td>2019-01-02</td>\n",
       "      <td>11.13</td>\n",
       "    </tr>\n",
       "    <tr>\n",
       "      <th>2</th>\n",
       "      <td>10808</td>\n",
       "      <td>Unleaded Gas</td>\n",
       "      <td>2019-01-03</td>\n",
       "      <td>-35.83</td>\n",
       "    </tr>\n",
       "    <tr>\n",
       "      <th>3</th>\n",
       "      <td>10808</td>\n",
       "      <td>Unleaded Gas</td>\n",
       "      <td>2019-01-04</td>\n",
       "      <td>-65.66</td>\n",
       "    </tr>\n",
       "    <tr>\n",
       "      <th>4</th>\n",
       "      <td>10808</td>\n",
       "      <td>Unleaded Gas</td>\n",
       "      <td>2019-01-05</td>\n",
       "      <td>-98.64</td>\n",
       "    </tr>\n",
       "  </tbody>\n",
       "</table>\n",
       "</div>"
      ],
      "text/plain": [
       "   Site_ID Grade_Description       Date  Profit\n",
       "0    10808      Unleaded Gas 2019-01-01    9.73\n",
       "1    10808      Unleaded Gas 2019-01-02   11.13\n",
       "2    10808      Unleaded Gas 2019-01-03  -35.83\n",
       "3    10808      Unleaded Gas 2019-01-04  -65.66\n",
       "4    10808      Unleaded Gas 2019-01-05  -98.64"
      ]
     },
     "execution_count": 12,
     "metadata": {},
     "output_type": "execute_result"
    }
   ],
   "source": [
    "sprofit.head()"
   ]
  },
  {
   "cell_type": "code",
   "execution_count": 13,
   "metadata": {},
   "outputs": [
    {
     "data": {
      "text/html": [
       "<div>\n",
       "<style scoped>\n",
       "    .dataframe tbody tr th:only-of-type {\n",
       "        vertical-align: middle;\n",
       "    }\n",
       "\n",
       "    .dataframe tbody tr th {\n",
       "        vertical-align: top;\n",
       "    }\n",
       "\n",
       "    .dataframe thead th {\n",
       "        text-align: right;\n",
       "    }\n",
       "</style>\n",
       "<table border=\"1\" class=\"dataframe\">\n",
       "  <thead>\n",
       "    <tr style=\"text-align: right;\">\n",
       "      <th></th>\n",
       "      <th>Date</th>\n",
       "      <th>Unleaded Gas Cost</th>\n",
       "      <th>Diesel Cost</th>\n",
       "      <th>Midgrade Gas Cost</th>\n",
       "      <th>Premium Gas Cost</th>\n",
       "    </tr>\n",
       "  </thead>\n",
       "  <tbody>\n",
       "    <tr>\n",
       "      <th>0</th>\n",
       "      <td>2018-12-01</td>\n",
       "      <td>1.4413</td>\n",
       "      <td>1.287061</td>\n",
       "      <td>1.527463</td>\n",
       "      <td>1.628971</td>\n",
       "    </tr>\n",
       "    <tr>\n",
       "      <th>1</th>\n",
       "      <td>2018-12-02</td>\n",
       "      <td>1.4413</td>\n",
       "      <td>1.283675</td>\n",
       "      <td>1.522660</td>\n",
       "      <td>1.629263</td>\n",
       "    </tr>\n",
       "    <tr>\n",
       "      <th>2</th>\n",
       "      <td>2018-12-03</td>\n",
       "      <td>1.4314</td>\n",
       "      <td>1.290575</td>\n",
       "      <td>1.535742</td>\n",
       "      <td>1.618202</td>\n",
       "    </tr>\n",
       "    <tr>\n",
       "      <th>3</th>\n",
       "      <td>2018-12-04</td>\n",
       "      <td>1.4434</td>\n",
       "      <td>1.313937</td>\n",
       "      <td>1.573385</td>\n",
       "      <td>1.650614</td>\n",
       "    </tr>\n",
       "    <tr>\n",
       "      <th>4</th>\n",
       "      <td>2018-12-05</td>\n",
       "      <td>1.4456</td>\n",
       "      <td>1.285454</td>\n",
       "      <td>1.538296</td>\n",
       "      <td>1.632224</td>\n",
       "    </tr>\n",
       "  </tbody>\n",
       "</table>\n",
       "</div>"
      ],
      "text/plain": [
       "        Date  Unleaded Gas Cost  Diesel Cost  Midgrade Gas Cost  \\\n",
       "0 2018-12-01             1.4413     1.287061           1.527463   \n",
       "1 2018-12-02             1.4413     1.283675           1.522660   \n",
       "2 2018-12-03             1.4314     1.290575           1.535742   \n",
       "3 2018-12-04             1.4434     1.313937           1.573385   \n",
       "4 2018-12-05             1.4456     1.285454           1.538296   \n",
       "\n",
       "   Premium Gas Cost  \n",
       "0          1.628971  \n",
       "1          1.629263  \n",
       "2          1.618202  \n",
       "3          1.650614  \n",
       "4          1.632224  "
      ]
     },
     "execution_count": 13,
     "metadata": {},
     "output_type": "execute_result"
    }
   ],
   "source": [
    "sreplace.head()"
   ]
  },
  {
   "cell_type": "code",
   "execution_count": 14,
   "metadata": {},
   "outputs": [
    {
     "data": {
      "text/html": [
       "<div>\n",
       "<style scoped>\n",
       "    .dataframe tbody tr th:only-of-type {\n",
       "        vertical-align: middle;\n",
       "    }\n",
       "\n",
       "    .dataframe tbody tr th {\n",
       "        vertical-align: top;\n",
       "    }\n",
       "\n",
       "    .dataframe thead th {\n",
       "        text-align: right;\n",
       "    }\n",
       "</style>\n",
       "<table border=\"1\" class=\"dataframe\">\n",
       "  <thead>\n",
       "    <tr style=\"text-align: right;\">\n",
       "      <th></th>\n",
       "      <th>Site_ID</th>\n",
       "      <th>Grade_Description</th>\n",
       "      <th>Date</th>\n",
       "      <th>Volume</th>\n",
       "    </tr>\n",
       "  </thead>\n",
       "  <tbody>\n",
       "    <tr>\n",
       "      <th>0</th>\n",
       "      <td>10808</td>\n",
       "      <td>Unleaded Gas</td>\n",
       "      <td>2019-01-01</td>\n",
       "      <td>1092.01</td>\n",
       "    </tr>\n",
       "    <tr>\n",
       "      <th>1</th>\n",
       "      <td>10808</td>\n",
       "      <td>Unleaded Gas</td>\n",
       "      <td>2019-01-02</td>\n",
       "      <td>1955.47</td>\n",
       "    </tr>\n",
       "    <tr>\n",
       "      <th>2</th>\n",
       "      <td>10808</td>\n",
       "      <td>Unleaded Gas</td>\n",
       "      <td>2019-01-03</td>\n",
       "      <td>1123.79</td>\n",
       "    </tr>\n",
       "    <tr>\n",
       "      <th>3</th>\n",
       "      <td>10808</td>\n",
       "      <td>Unleaded Gas</td>\n",
       "      <td>2019-01-04</td>\n",
       "      <td>1847.51</td>\n",
       "    </tr>\n",
       "    <tr>\n",
       "      <th>4</th>\n",
       "      <td>10808</td>\n",
       "      <td>Unleaded Gas</td>\n",
       "      <td>2019-01-05</td>\n",
       "      <td>1442.89</td>\n",
       "    </tr>\n",
       "  </tbody>\n",
       "</table>\n",
       "</div>"
      ],
      "text/plain": [
       "   Site_ID Grade_Description       Date   Volume\n",
       "0    10808      Unleaded Gas 2019-01-01  1092.01\n",
       "1    10808      Unleaded Gas 2019-01-02  1955.47\n",
       "2    10808      Unleaded Gas 2019-01-03  1123.79\n",
       "3    10808      Unleaded Gas 2019-01-04  1847.51\n",
       "4    10808      Unleaded Gas 2019-01-05  1442.89"
      ]
     },
     "execution_count": 14,
     "metadata": {},
     "output_type": "execute_result"
    }
   ],
   "source": [
    "svol.head()"
   ]
  },
  {
   "cell_type": "code",
   "execution_count": null,
   "metadata": {},
   "outputs": [],
   "source": []
  }
 ],
 "metadata": {
  "kernelspec": {
   "display_name": "Python 3",
   "language": "python",
   "name": "python3"
  },
  "language_info": {
   "codemirror_mode": {
    "name": "ipython",
    "version": 3
   },
   "file_extension": ".py",
   "mimetype": "text/x-python",
   "name": "python",
   "nbconvert_exporter": "python",
   "pygments_lexer": "ipython3",
   "version": "3.7.7"
  }
 },
 "nbformat": 4,
 "nbformat_minor": 4
}
