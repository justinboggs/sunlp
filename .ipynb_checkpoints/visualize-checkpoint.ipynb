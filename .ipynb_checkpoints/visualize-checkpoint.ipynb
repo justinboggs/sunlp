{
 "cells": [
  {
   "cell_type": "code",
   "execution_count": 30,
   "metadata": {},
   "outputs": [],
   "source": [
    "import pandas as pd\n",
    "from prompt_toolkit import prompt\n",
    "import csv\n",
    "import os\n",
    "import seaborn as sns\n",
    "import matplotlib.pyplot as plt\n",
    "import investpy\n",
    "from datetime import datetime"
   ]
  },
  {
   "cell_type": "code",
   "execution_count": 31,
   "metadata": {},
   "outputs": [
    {
     "data": {
      "text/html": [
       "<div>\n",
       "<style scoped>\n",
       "    .dataframe tbody tr th:only-of-type {\n",
       "        vertical-align: middle;\n",
       "    }\n",
       "\n",
       "    .dataframe tbody tr th {\n",
       "        vertical-align: top;\n",
       "    }\n",
       "\n",
       "    .dataframe thead th {\n",
       "        text-align: right;\n",
       "    }\n",
       "</style>\n",
       "<table border=\"1\" class=\"dataframe\">\n",
       "  <thead>\n",
       "    <tr style=\"text-align: right;\">\n",
       "      <th></th>\n",
       "      <th>Site_ID</th>\n",
       "      <th>Grade_Description</th>\n",
       "      <th>Date</th>\n",
       "      <th>Price</th>\n",
       "      <th>Profit</th>\n",
       "      <th>Volume</th>\n",
       "      <th>Competitor_Price</th>\n",
       "      <th>Fuel_Cost</th>\n",
       "    </tr>\n",
       "  </thead>\n",
       "  <tbody>\n",
       "    <tr>\n",
       "      <th>0</th>\n",
       "      <td>10808</td>\n",
       "      <td>Premium Gas</td>\n",
       "      <td>1/1/2019</td>\n",
       "      <td>2.319</td>\n",
       "      <td>7.60</td>\n",
       "      <td>49.30</td>\n",
       "      <td>1.799000</td>\n",
       "      <td>1.534257</td>\n",
       "    </tr>\n",
       "    <tr>\n",
       "      <th>1</th>\n",
       "      <td>10808</td>\n",
       "      <td>Unleaded Gas</td>\n",
       "      <td>1/1/2019</td>\n",
       "      <td>1.769</td>\n",
       "      <td>9.73</td>\n",
       "      <td>1092.01</td>\n",
       "      <td>1.825667</td>\n",
       "      <td>1.323700</td>\n",
       "    </tr>\n",
       "    <tr>\n",
       "      <th>2</th>\n",
       "      <td>10838</td>\n",
       "      <td>Midgrade Gas</td>\n",
       "      <td>1/1/2019</td>\n",
       "      <td>2.039</td>\n",
       "      <td>18.81</td>\n",
       "      <td>105.78</td>\n",
       "      <td>2.184000</td>\n",
       "      <td>1.409889</td>\n",
       "    </tr>\n",
       "    <tr>\n",
       "      <th>3</th>\n",
       "      <td>10838</td>\n",
       "      <td>Premium Gas</td>\n",
       "      <td>1/1/2019</td>\n",
       "      <td>2.339</td>\n",
       "      <td>25.11</td>\n",
       "      <td>76.57</td>\n",
       "      <td>2.496500</td>\n",
       "      <td>1.534257</td>\n",
       "    </tr>\n",
       "    <tr>\n",
       "      <th>4</th>\n",
       "      <td>10838</td>\n",
       "      <td>Unleaded Gas</td>\n",
       "      <td>1/1/2019</td>\n",
       "      <td>1.739</td>\n",
       "      <td>-18.27</td>\n",
       "      <td>255.60</td>\n",
       "      <td>1.784000</td>\n",
       "      <td>1.323700</td>\n",
       "    </tr>\n",
       "  </tbody>\n",
       "</table>\n",
       "</div>"
      ],
      "text/plain": [
       "   Site_ID Grade_Description      Date  Price  Profit   Volume  \\\n",
       "0    10808       Premium Gas  1/1/2019  2.319    7.60    49.30   \n",
       "1    10808      Unleaded Gas  1/1/2019  1.769    9.73  1092.01   \n",
       "2    10838      Midgrade Gas  1/1/2019  2.039   18.81   105.78   \n",
       "3    10838       Premium Gas  1/1/2019  2.339   25.11    76.57   \n",
       "4    10838      Unleaded Gas  1/1/2019  1.739  -18.27   255.60   \n",
       "\n",
       "   Competitor_Price  Fuel_Cost  \n",
       "0          1.799000   1.534257  \n",
       "1          1.825667   1.323700  \n",
       "2          2.184000   1.409889  \n",
       "3          2.496500   1.534257  \n",
       "4          1.784000   1.323700  "
      ]
     },
     "execution_count": 31,
     "metadata": {},
     "output_type": "execute_result"
    }
   ],
   "source": [
    "site_kpis = pd.read_csv('data/site_kpis.csv')\n",
    "site_kpis.head()"
   ]
  },
  {
   "cell_type": "code",
   "execution_count": 32,
   "metadata": {},
   "outputs": [
    {
     "name": "stdout",
     "output_type": "stream",
     "text": [
      "<class 'pandas.core.frame.DataFrame'>\n",
      "RangeIndex: 5713 entries, 0 to 5712\n",
      "Data columns (total 8 columns):\n",
      " #   Column             Non-Null Count  Dtype  \n",
      "---  ------             --------------  -----  \n",
      " 0   Site_ID            5713 non-null   int64  \n",
      " 1   Grade_Description  5713 non-null   object \n",
      " 2   Date               5713 non-null   object \n",
      " 3   Price              5713 non-null   float64\n",
      " 4   Profit             5713 non-null   float64\n",
      " 5   Volume             5713 non-null   float64\n",
      " 6   Competitor_Price   5713 non-null   float64\n",
      " 7   Fuel_Cost          5713 non-null   float64\n",
      "dtypes: float64(5), int64(1), object(2)\n",
      "memory usage: 357.2+ KB\n"
     ]
    }
   ],
   "source": [
    "site_kpis.info()"
   ]
  },
  {
   "cell_type": "code",
   "execution_count": 50,
   "metadata": {},
   "outputs": [
    {
     "name": "stdout",
     "output_type": "stream",
     "text": [
      "<class 'pandas.core.frame.DataFrame'>\n",
      "RangeIndex: 5713 entries, 0 to 5712\n",
      "Data columns (total 8 columns):\n",
      " #   Column             Non-Null Count  Dtype         \n",
      "---  ------             --------------  -----         \n",
      " 0   Site_ID            5713 non-null   int64         \n",
      " 1   Grade_Description  5713 non-null   object        \n",
      " 2   Date               5713 non-null   datetime64[ns]\n",
      " 3   Price              5713 non-null   float64       \n",
      " 4   Profit             5713 non-null   float64       \n",
      " 5   Volume             5713 non-null   float64       \n",
      " 6   Competitor_Price   5713 non-null   float64       \n",
      " 7   Fuel_Cost          5713 non-null   float64       \n",
      "dtypes: datetime64[ns](1), float64(5), int64(1), object(1)\n",
      "memory usage: 357.2+ KB\n"
     ]
    }
   ],
   "source": [
    "site_kpis['Date'] =  site_kpis['Date'].apply(pd.to_datetime)\n",
    "site_kpis.info()"
   ]
  },
  {
   "cell_type": "code",
   "execution_count": 51,
   "metadata": {},
   "outputs": [
    {
     "name": "stdout",
     "output_type": "stream",
     "text": [
      "[10808 10838 10818]\n",
      "Site_ID                 3\n",
      "Grade_Description       3\n",
      "Date                  731\n",
      "Price                 179\n",
      "Profit               4607\n",
      "Volume               5141\n",
      "Competitor_Price     1074\n",
      "Fuel_Cost            1956\n",
      "dtype: int64\n"
     ]
    }
   ],
   "source": [
    "print(site_kpis.Site_ID.unique())\n",
    "print(site_kpis.nunique())"
   ]
  },
  {
   "cell_type": "code",
   "execution_count": 52,
   "metadata": {},
   "outputs": [],
   "source": [
    "# fig, ax = plt.subplots()\n",
    "# ax.plot(site_kpis['Date'], site_kpis['Price'])\n",
    "# ax.set_ylabel('Price')\n",
    "# # ax.set_xlabel('Date')\n",
    "# ax.set_title('Price')\n",
    "# # plt.xticks(rotation=45)\n",
    "# # ax.properties()['children'][1].set_color('black')\n",
    "# # ax.properties()['children'][2].set_color('purple')\n",
    "# fig.set_size_inches(18.5, 10.5)\n",
    "# plt.grid()\n",
    "# ax.legend(['Price', 'Competitor Price'], loc='upper left')\n",
    "# ax.set_facecolor('xkcd:light grey')"
   ]
  },
  {
   "cell_type": "code",
   "execution_count": 53,
   "metadata": {},
   "outputs": [
    {
     "data": {
      "text/html": [
       "<div>\n",
       "<style scoped>\n",
       "    .dataframe tbody tr th:only-of-type {\n",
       "        vertical-align: middle;\n",
       "    }\n",
       "\n",
       "    .dataframe tbody tr th {\n",
       "        vertical-align: top;\n",
       "    }\n",
       "\n",
       "    .dataframe thead th {\n",
       "        text-align: right;\n",
       "    }\n",
       "</style>\n",
       "<table border=\"1\" class=\"dataframe\">\n",
       "  <thead>\n",
       "    <tr style=\"text-align: right;\">\n",
       "      <th></th>\n",
       "      <th>Site_ID</th>\n",
       "      <th>Grade_Description</th>\n",
       "      <th>Date</th>\n",
       "      <th>Price</th>\n",
       "      <th>Profit</th>\n",
       "      <th>Volume</th>\n",
       "      <th>Competitor_Price</th>\n",
       "      <th>Fuel_Cost</th>\n",
       "    </tr>\n",
       "  </thead>\n",
       "  <tbody>\n",
       "    <tr>\n",
       "      <th>0</th>\n",
       "      <td>10808</td>\n",
       "      <td>Premium Gas</td>\n",
       "      <td>2019-01-01</td>\n",
       "      <td>2.319</td>\n",
       "      <td>7.60</td>\n",
       "      <td>49.30</td>\n",
       "      <td>1.799000</td>\n",
       "      <td>1.534257</td>\n",
       "    </tr>\n",
       "    <tr>\n",
       "      <th>1</th>\n",
       "      <td>10808</td>\n",
       "      <td>Unleaded Gas</td>\n",
       "      <td>2019-01-01</td>\n",
       "      <td>1.769</td>\n",
       "      <td>9.73</td>\n",
       "      <td>1092.01</td>\n",
       "      <td>1.825667</td>\n",
       "      <td>1.323700</td>\n",
       "    </tr>\n",
       "    <tr>\n",
       "      <th>5</th>\n",
       "      <td>10808</td>\n",
       "      <td>Premium Gas</td>\n",
       "      <td>2019-01-02</td>\n",
       "      <td>2.309</td>\n",
       "      <td>14.78</td>\n",
       "      <td>83.84</td>\n",
       "      <td>1.799000</td>\n",
       "      <td>1.535803</td>\n",
       "    </tr>\n",
       "    <tr>\n",
       "      <th>6</th>\n",
       "      <td>10808</td>\n",
       "      <td>Unleaded Gas</td>\n",
       "      <td>2019-01-02</td>\n",
       "      <td>1.759</td>\n",
       "      <td>11.13</td>\n",
       "      <td>1955.47</td>\n",
       "      <td>1.819000</td>\n",
       "      <td>1.325600</td>\n",
       "    </tr>\n",
       "    <tr>\n",
       "      <th>10</th>\n",
       "      <td>10808</td>\n",
       "      <td>Premium Gas</td>\n",
       "      <td>2019-01-03</td>\n",
       "      <td>2.299</td>\n",
       "      <td>7.15</td>\n",
       "      <td>56.94</td>\n",
       "      <td>1.799000</td>\n",
       "      <td>1.553484</td>\n",
       "    </tr>\n",
       "  </tbody>\n",
       "</table>\n",
       "</div>"
      ],
      "text/plain": [
       "    Site_ID Grade_Description       Date  Price  Profit   Volume  \\\n",
       "0     10808       Premium Gas 2019-01-01  2.319    7.60    49.30   \n",
       "1     10808      Unleaded Gas 2019-01-01  1.769    9.73  1092.01   \n",
       "5     10808       Premium Gas 2019-01-02  2.309   14.78    83.84   \n",
       "6     10808      Unleaded Gas 2019-01-02  1.759   11.13  1955.47   \n",
       "10    10808       Premium Gas 2019-01-03  2.299    7.15    56.94   \n",
       "\n",
       "    Competitor_Price  Fuel_Cost  \n",
       "0           1.799000   1.534257  \n",
       "1           1.825667   1.323700  \n",
       "5           1.799000   1.535803  \n",
       "6           1.819000   1.325600  \n",
       "10          1.799000   1.553484  "
      ]
     },
     "execution_count": 53,
     "metadata": {},
     "output_type": "execute_result"
    }
   ],
   "source": [
    "kpi10808 =  site_kpis.loc[site_kpis['Site_ID'] == 10808]\n",
    "kpi10808.head()"
   ]
  },
  {
   "cell_type": "code",
   "execution_count": 54,
   "metadata": {},
   "outputs": [
    {
     "data": {
      "text/html": [
       "<div>\n",
       "<style scoped>\n",
       "    .dataframe tbody tr th:only-of-type {\n",
       "        vertical-align: middle;\n",
       "    }\n",
       "\n",
       "    .dataframe tbody tr th {\n",
       "        vertical-align: top;\n",
       "    }\n",
       "\n",
       "    .dataframe thead th {\n",
       "        text-align: right;\n",
       "    }\n",
       "</style>\n",
       "<table border=\"1\" class=\"dataframe\">\n",
       "  <thead>\n",
       "    <tr style=\"text-align: right;\">\n",
       "      <th></th>\n",
       "      <th>Site_ID</th>\n",
       "      <th>Grade_Description</th>\n",
       "      <th>Date</th>\n",
       "      <th>Price</th>\n",
       "      <th>Profit</th>\n",
       "      <th>Volume</th>\n",
       "      <th>Competitor_Price</th>\n",
       "      <th>Fuel_Cost</th>\n",
       "    </tr>\n",
       "  </thead>\n",
       "  <tbody>\n",
       "    <tr>\n",
       "      <th>12</th>\n",
       "      <td>10818</td>\n",
       "      <td>Midgrade Gas</td>\n",
       "      <td>2019-01-03</td>\n",
       "      <td>2.599</td>\n",
       "      <td>0.0</td>\n",
       "      <td>0.0</td>\n",
       "      <td>2.365667</td>\n",
       "      <td>1.454955</td>\n",
       "    </tr>\n",
       "    <tr>\n",
       "      <th>47</th>\n",
       "      <td>10818</td>\n",
       "      <td>Midgrade Gas</td>\n",
       "      <td>2019-01-10</td>\n",
       "      <td>2.599</td>\n",
       "      <td>0.0</td>\n",
       "      <td>0.0</td>\n",
       "      <td>2.311500</td>\n",
       "      <td>1.508637</td>\n",
       "    </tr>\n",
       "    <tr>\n",
       "      <th>48</th>\n",
       "      <td>10818</td>\n",
       "      <td>Premium Gas</td>\n",
       "      <td>2019-01-10</td>\n",
       "      <td>2.849</td>\n",
       "      <td>0.0</td>\n",
       "      <td>0.0</td>\n",
       "      <td>2.755667</td>\n",
       "      <td>1.611579</td>\n",
       "    </tr>\n",
       "    <tr>\n",
       "      <th>67</th>\n",
       "      <td>10818</td>\n",
       "      <td>Midgrade Gas</td>\n",
       "      <td>2019-01-13</td>\n",
       "      <td>2.599</td>\n",
       "      <td>0.0</td>\n",
       "      <td>0.0</td>\n",
       "      <td>2.374000</td>\n",
       "      <td>1.507373</td>\n",
       "    </tr>\n",
       "    <tr>\n",
       "      <th>68</th>\n",
       "      <td>10818</td>\n",
       "      <td>Premium Gas</td>\n",
       "      <td>2019-01-13</td>\n",
       "      <td>2.849</td>\n",
       "      <td>0.0</td>\n",
       "      <td>0.0</td>\n",
       "      <td>2.749000</td>\n",
       "      <td>1.616662</td>\n",
       "    </tr>\n",
       "  </tbody>\n",
       "</table>\n",
       "</div>"
      ],
      "text/plain": [
       "    Site_ID Grade_Description       Date  Price  Profit  Volume  \\\n",
       "12    10818      Midgrade Gas 2019-01-03  2.599     0.0     0.0   \n",
       "47    10818      Midgrade Gas 2019-01-10  2.599     0.0     0.0   \n",
       "48    10818       Premium Gas 2019-01-10  2.849     0.0     0.0   \n",
       "67    10818      Midgrade Gas 2019-01-13  2.599     0.0     0.0   \n",
       "68    10818       Premium Gas 2019-01-13  2.849     0.0     0.0   \n",
       "\n",
       "    Competitor_Price  Fuel_Cost  \n",
       "12          2.365667   1.454955  \n",
       "47          2.311500   1.508637  \n",
       "48          2.755667   1.611579  \n",
       "67          2.374000   1.507373  \n",
       "68          2.749000   1.616662  "
      ]
     },
     "execution_count": 54,
     "metadata": {},
     "output_type": "execute_result"
    }
   ],
   "source": [
    "kpi10818 =  site_kpis.loc[site_kpis['Site_ID'] == 10818]\n",
    "kpi10818.head()"
   ]
  },
  {
   "cell_type": "code",
   "execution_count": 55,
   "metadata": {},
   "outputs": [
    {
     "data": {
      "text/html": [
       "<div>\n",
       "<style scoped>\n",
       "    .dataframe tbody tr th:only-of-type {\n",
       "        vertical-align: middle;\n",
       "    }\n",
       "\n",
       "    .dataframe tbody tr th {\n",
       "        vertical-align: top;\n",
       "    }\n",
       "\n",
       "    .dataframe thead th {\n",
       "        text-align: right;\n",
       "    }\n",
       "</style>\n",
       "<table border=\"1\" class=\"dataframe\">\n",
       "  <thead>\n",
       "    <tr style=\"text-align: right;\">\n",
       "      <th></th>\n",
       "      <th>Site_ID</th>\n",
       "      <th>Grade_Description</th>\n",
       "      <th>Date</th>\n",
       "      <th>Price</th>\n",
       "      <th>Profit</th>\n",
       "      <th>Volume</th>\n",
       "      <th>Competitor_Price</th>\n",
       "      <th>Fuel_Cost</th>\n",
       "    </tr>\n",
       "  </thead>\n",
       "  <tbody>\n",
       "    <tr>\n",
       "      <th>2</th>\n",
       "      <td>10838</td>\n",
       "      <td>Midgrade Gas</td>\n",
       "      <td>2019-01-01</td>\n",
       "      <td>2.039</td>\n",
       "      <td>18.81</td>\n",
       "      <td>105.78</td>\n",
       "      <td>2.1840</td>\n",
       "      <td>1.409889</td>\n",
       "    </tr>\n",
       "    <tr>\n",
       "      <th>3</th>\n",
       "      <td>10838</td>\n",
       "      <td>Premium Gas</td>\n",
       "      <td>2019-01-01</td>\n",
       "      <td>2.339</td>\n",
       "      <td>25.11</td>\n",
       "      <td>76.57</td>\n",
       "      <td>2.4965</td>\n",
       "      <td>1.534257</td>\n",
       "    </tr>\n",
       "    <tr>\n",
       "      <th>4</th>\n",
       "      <td>10838</td>\n",
       "      <td>Unleaded Gas</td>\n",
       "      <td>2019-01-01</td>\n",
       "      <td>1.739</td>\n",
       "      <td>-18.27</td>\n",
       "      <td>255.60</td>\n",
       "      <td>1.7840</td>\n",
       "      <td>1.323700</td>\n",
       "    </tr>\n",
       "    <tr>\n",
       "      <th>7</th>\n",
       "      <td>10838</td>\n",
       "      <td>Midgrade Gas</td>\n",
       "      <td>2019-01-02</td>\n",
       "      <td>2.039</td>\n",
       "      <td>18.39</td>\n",
       "      <td>103.41</td>\n",
       "      <td>2.1815</td>\n",
       "      <td>1.434353</td>\n",
       "    </tr>\n",
       "    <tr>\n",
       "      <th>8</th>\n",
       "      <td>10838</td>\n",
       "      <td>Premium Gas</td>\n",
       "      <td>2019-01-02</td>\n",
       "      <td>2.339</td>\n",
       "      <td>22.36</td>\n",
       "      <td>68.19</td>\n",
       "      <td>2.4915</td>\n",
       "      <td>1.535803</td>\n",
       "    </tr>\n",
       "  </tbody>\n",
       "</table>\n",
       "</div>"
      ],
      "text/plain": [
       "   Site_ID Grade_Description       Date  Price  Profit  Volume  \\\n",
       "2    10838      Midgrade Gas 2019-01-01  2.039   18.81  105.78   \n",
       "3    10838       Premium Gas 2019-01-01  2.339   25.11   76.57   \n",
       "4    10838      Unleaded Gas 2019-01-01  1.739  -18.27  255.60   \n",
       "7    10838      Midgrade Gas 2019-01-02  2.039   18.39  103.41   \n",
       "8    10838       Premium Gas 2019-01-02  2.339   22.36   68.19   \n",
       "\n",
       "   Competitor_Price  Fuel_Cost  \n",
       "2            2.1840   1.409889  \n",
       "3            2.4965   1.534257  \n",
       "4            1.7840   1.323700  \n",
       "7            2.1815   1.434353  \n",
       "8            2.4915   1.535803  "
      ]
     },
     "execution_count": 55,
     "metadata": {},
     "output_type": "execute_result"
    }
   ],
   "source": [
    "kpi10838 =  site_kpis.loc[site_kpis['Site_ID'] == 10838]\n",
    "kpi10838.head()"
   ]
  },
  {
   "cell_type": "code",
   "execution_count": 56,
   "metadata": {},
   "outputs": [
    {
     "data": {
      "text/plain": [
       "<AxesSubplot:>"
      ]
     },
     "execution_count": 56,
     "metadata": {},
     "output_type": "execute_result"
    },
    {
     "data": {
      "image/png": "[encoded data removed]",
      "text/plain": [
       "<Figure size 720x576 with 1 Axes>"
      ]
     },
     "metadata": {
      "needs_background": "light"
     },
     "output_type": "display_data"
    }
   ],
   "source": [
    "kpi10808.plot(figsize=(10, 8))"
   ]
  },
  {
   "cell_type": "code",
   "execution_count": 57,
   "metadata": {},
   "outputs": [
    {
     "data": {
      "text/plain": [
       "<AxesSubplot:>"
      ]
     },
     "execution_count": 57,
     "metadata": {},
     "output_type": "execute_result"
    },
    {
     "data": {
      "image/png": "[encoded data removed]",
      "text/plain": [
       "<Figure size 720x576 with 1 Axes>"
      ]
     },
     "metadata": {
      "needs_background": "light"
     },
     "output_type": "display_data"
    }
   ],
   "source": [
    "site_kpis.plot(figsize=(10, 8))"
   ]
  },
  {
   "cell_type": "code",
   "execution_count": null,
   "metadata": {},
   "outputs": [],
   "source": []
  }
 ],
 "metadata": {
  "kernelspec": {
   "display_name": "Python 3",
   "language": "python",
   "name": "python3"
  },
  "language_info": {
   "codemirror_mode": {
    "name": "ipython",
    "version": 3
   },
   "file_extension": ".py",
   "mimetype": "text/x-python",
   "name": "python",
   "nbconvert_exporter": "python",
   "pygments_lexer": "ipython3",
   "version": "3.7.6"
  }
 },
 "nbformat": 4,
 "nbformat_minor": 4
}
